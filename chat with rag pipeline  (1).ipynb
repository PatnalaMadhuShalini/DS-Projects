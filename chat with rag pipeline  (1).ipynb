{
 "cells": [
  {
   "cell_type": "code",
   "execution_count": 8,
   "id": "218552cf-3765-4582-a0d7-034886e4e224",
   "metadata": {},
   "outputs": [
    {
     "name": "stdout",
     "output_type": "stream",
     "text": [
      "Requirement already satisfied: pdfplumber in d:\\anaconda\\lib\\site-packages (0.11.4)\n",
      "Requirement already satisfied: pdfminer.six==20231228 in d:\\anaconda\\lib\\site-packages (from pdfplumber) (20231228)\n",
      "Requirement already satisfied: Pillow>=9.1 in d:\\anaconda\\lib\\site-packages (from pdfplumber) (10.3.0)\n",
      "Requirement already satisfied: pypdfium2>=4.18.0 in d:\\anaconda\\lib\\site-packages (from pdfplumber) (4.30.0)\n",
      "Requirement already satisfied: charset-normalizer>=2.0.0 in d:\\anaconda\\lib\\site-packages (from pdfminer.six==20231228->pdfplumber) (2.0.4)\n",
      "Requirement already satisfied: cryptography>=36.0.0 in d:\\anaconda\\lib\\site-packages (from pdfminer.six==20231228->pdfplumber) (42.0.5)\n",
      "Requirement already satisfied: cffi>=1.12 in d:\\anaconda\\lib\\site-packages (from cryptography>=36.0.0->pdfminer.six==20231228->pdfplumber) (1.16.0)\n",
      "Requirement already satisfied: pycparser in d:\\anaconda\\lib\\site-packages (from cffi>=1.12->cryptography>=36.0.0->pdfminer.six==20231228->pdfplumber) (2.21)\n"
     ]
    }
   ],
   "source": [
    "!pip install pdfplumber \n"
   ]
  },
  {
   "cell_type": "code",
   "execution_count": 9,
   "id": "63b3afb9-13d0-4c73-af77-8f2d93163368",
   "metadata": {},
   "outputs": [
    {
     "name": "stdout",
     "output_type": "stream",
     "text": [
      "Requirement already satisfied: sentence-transformers in d:\\anaconda\\lib\\site-packages (3.3.1)\n",
      "Requirement already satisfied: faiss-cpu in d:\\anaconda\\lib\\site-packages (1.9.0.post1)\n",
      "Requirement already satisfied: transformers in d:\\anaconda\\lib\\site-packages (4.47.0)\n",
      "Requirement already satisfied: pandas in d:\\anaconda\\lib\\site-packages (2.2.2)\n",
      "Requirement already satisfied: flask in d:\\anaconda\\lib\\site-packages (3.0.3)\n",
      "Requirement already satisfied: gradio in d:\\anaconda\\lib\\site-packages (5.9.0)\n",
      "Requirement already satisfied: camelot-py[cv] in d:\\anaconda\\lib\\site-packages (0.9.0)\n",
      "Requirement already satisfied: chardet>=3.0.4 in d:\\anaconda\\lib\\site-packages (from camelot-py[cv]) (4.0.0)\n",
      "Requirement already satisfied: click>=6.7 in d:\\anaconda\\lib\\site-packages (from camelot-py[cv]) (8.1.7)\n",
      "Requirement already satisfied: numpy>=1.13.3 in d:\\anaconda\\lib\\site-packages (from camelot-py[cv]) (1.26.4)\n",
      "Requirement already satisfied: openpyxl>=2.5.8 in d:\\anaconda\\lib\\site-packages (from camelot-py[cv]) (3.1.2)\n",
      "Requirement already satisfied: pdfminer.six>=20200726 in d:\\anaconda\\lib\\site-packages (from camelot-py[cv]) (20231228)\n",
      "Requirement already satisfied: PyPDF2>=1.26.0 in d:\\anaconda\\lib\\site-packages (from camelot-py[cv]) (3.0.1)\n",
      "Requirement already satisfied: opencv-python>=3.4.2.17 in d:\\anaconda\\lib\\site-packages (from camelot-py[cv]) (4.10.0.84)\n",
      "Requirement already satisfied: tqdm in d:\\anaconda\\lib\\site-packages (from sentence-transformers) (4.66.4)\n",
      "Requirement already satisfied: torch>=1.11.0 in d:\\anaconda\\lib\\site-packages (from sentence-transformers) (2.5.1)\n",
      "Requirement already satisfied: scikit-learn in d:\\anaconda\\lib\\site-packages (from sentence-transformers) (1.4.2)\n",
      "Requirement already satisfied: scipy in d:\\anaconda\\lib\\site-packages (from sentence-transformers) (1.13.1)\n",
      "Requirement already satisfied: huggingface-hub>=0.20.0 in d:\\anaconda\\lib\\site-packages (from sentence-transformers) (0.27.0)\n",
      "Requirement already satisfied: Pillow in d:\\anaconda\\lib\\site-packages (from sentence-transformers) (10.3.0)\n",
      "Requirement already satisfied: packaging in d:\\anaconda\\lib\\site-packages (from faiss-cpu) (23.2)\n",
      "Requirement already satisfied: filelock in d:\\anaconda\\lib\\site-packages (from transformers) (3.13.1)\n",
      "Requirement already satisfied: pyyaml>=5.1 in d:\\anaconda\\lib\\site-packages (from transformers) (6.0.1)\n",
      "Requirement already satisfied: regex!=2019.12.17 in d:\\anaconda\\lib\\site-packages (from transformers) (2023.10.3)\n",
      "Requirement already satisfied: requests in d:\\anaconda\\lib\\site-packages (from transformers) (2.32.2)\n",
      "Requirement already satisfied: tokenizers<0.22,>=0.21 in d:\\anaconda\\lib\\site-packages (from transformers) (0.21.0)\n",
      "Requirement already satisfied: safetensors>=0.4.1 in d:\\anaconda\\lib\\site-packages (from transformers) (0.4.5)\n",
      "Requirement already satisfied: python-dateutil>=2.8.2 in d:\\anaconda\\lib\\site-packages (from pandas) (2.9.0.post0)\n",
      "Requirement already satisfied: pytz>=2020.1 in d:\\anaconda\\lib\\site-packages (from pandas) (2024.1)\n",
      "Requirement already satisfied: tzdata>=2022.7 in d:\\anaconda\\lib\\site-packages (from pandas) (2023.3)\n",
      "Requirement already satisfied: Werkzeug>=3.0.0 in d:\\anaconda\\lib\\site-packages (from flask) (3.0.3)\n",
      "Requirement already satisfied: Jinja2>=3.1.2 in d:\\anaconda\\lib\\site-packages (from flask) (3.1.4)\n",
      "Requirement already satisfied: itsdangerous>=2.1.2 in d:\\anaconda\\lib\\site-packages (from flask) (2.2.0)\n",
      "Requirement already satisfied: blinker>=1.6.2 in d:\\anaconda\\lib\\site-packages (from flask) (1.6.2)\n",
      "Requirement already satisfied: aiofiles<24.0,>=22.0 in d:\\anaconda\\lib\\site-packages (from gradio) (23.2.1)\n",
      "Requirement already satisfied: anyio<5.0,>=3.0 in d:\\anaconda\\lib\\site-packages (from gradio) (4.2.0)\n",
      "Requirement already satisfied: fastapi<1.0,>=0.115.2 in d:\\anaconda\\lib\\site-packages (from gradio) (0.115.6)\n",
      "Requirement already satisfied: ffmpy in d:\\anaconda\\lib\\site-packages (from gradio) (0.4.0)\n",
      "Requirement already satisfied: gradio-client==1.5.2 in d:\\anaconda\\lib\\site-packages (from gradio) (1.5.2)\n",
      "Requirement already satisfied: httpx>=0.24.1 in d:\\anaconda\\lib\\site-packages (from gradio) (0.27.0)\n",
      "Requirement already satisfied: markupsafe~=2.0 in d:\\anaconda\\lib\\site-packages (from gradio) (2.1.3)\n",
      "Requirement already satisfied: orjson~=3.0 in d:\\anaconda\\lib\\site-packages (from gradio) (3.10.12)\n",
      "Requirement already satisfied: pydantic>=2.0 in d:\\anaconda\\lib\\site-packages (from gradio) (2.8.2)\n",
      "Requirement already satisfied: pydub in d:\\anaconda\\lib\\site-packages (from gradio) (0.25.1)\n",
      "Requirement already satisfied: python-multipart>=0.0.18 in d:\\anaconda\\lib\\site-packages (from gradio) (0.0.19)\n",
      "Requirement already satisfied: ruff>=0.2.2 in d:\\anaconda\\lib\\site-packages (from gradio) (0.8.3)\n",
      "Requirement already satisfied: safehttpx<0.2.0,>=0.1.6 in d:\\anaconda\\lib\\site-packages (from gradio) (0.1.6)\n",
      "Requirement already satisfied: semantic-version~=2.0 in d:\\anaconda\\lib\\site-packages (from gradio) (2.10.0)\n",
      "Requirement already satisfied: starlette<1.0,>=0.40.0 in d:\\anaconda\\lib\\site-packages (from gradio) (0.41.3)\n",
      "Requirement already satisfied: tomlkit<0.14.0,>=0.12.0 in d:\\anaconda\\lib\\site-packages (from gradio) (0.13.2)\n",
      "Requirement already satisfied: typer<1.0,>=0.12 in d:\\anaconda\\lib\\site-packages (from gradio) (0.15.1)\n",
      "Requirement already satisfied: typing-extensions~=4.0 in d:\\anaconda\\lib\\site-packages (from gradio) (4.11.0)\n",
      "Requirement already satisfied: uvicorn>=0.14.0 in d:\\anaconda\\lib\\site-packages (from gradio) (0.34.0)\n",
      "Requirement already satisfied: fsspec in d:\\anaconda\\lib\\site-packages (from gradio-client==1.5.2->gradio) (2024.3.1)\n",
      "Requirement already satisfied: websockets<15.0,>=10.0 in d:\\anaconda\\lib\\site-packages (from gradio-client==1.5.2->gradio) (14.1)\n",
      "Requirement already satisfied: idna>=2.8 in d:\\anaconda\\lib\\site-packages (from anyio<5.0,>=3.0->gradio) (3.7)\n",
      "Requirement already satisfied: sniffio>=1.1 in d:\\anaconda\\lib\\site-packages (from anyio<5.0,>=3.0->gradio) (1.3.0)\n",
      "Requirement already satisfied: colorama in d:\\anaconda\\lib\\site-packages (from click>=6.7->camelot-py[cv]) (0.4.6)\n",
      "Requirement already satisfied: certifi in d:\\anaconda\\lib\\site-packages (from httpx>=0.24.1->gradio) (2024.8.30)\n",
      "Requirement already satisfied: httpcore==1.* in d:\\anaconda\\lib\\site-packages (from httpx>=0.24.1->gradio) (1.0.2)\n",
      "Requirement already satisfied: h11<0.15,>=0.13 in d:\\anaconda\\lib\\site-packages (from httpcore==1.*->httpx>=0.24.1->gradio) (0.14.0)\n",
      "Requirement already satisfied: et-xmlfile in d:\\anaconda\\lib\\site-packages (from openpyxl>=2.5.8->camelot-py[cv]) (1.1.0)\n",
      "Requirement already satisfied: charset-normalizer>=2.0.0 in d:\\anaconda\\lib\\site-packages (from pdfminer.six>=20200726->camelot-py[cv]) (2.0.4)\n",
      "Requirement already satisfied: cryptography>=36.0.0 in d:\\anaconda\\lib\\site-packages (from pdfminer.six>=20200726->camelot-py[cv]) (42.0.5)\n",
      "Requirement already satisfied: annotated-types>=0.4.0 in d:\\anaconda\\lib\\site-packages (from pydantic>=2.0->gradio) (0.6.0)\n",
      "Requirement already satisfied: pydantic-core==2.20.1 in d:\\anaconda\\lib\\site-packages (from pydantic>=2.0->gradio) (2.20.1)\n",
      "Requirement already satisfied: six>=1.5 in d:\\anaconda\\lib\\site-packages (from python-dateutil>=2.8.2->pandas) (1.16.0)\n",
      "Requirement already satisfied: networkx in d:\\anaconda\\lib\\site-packages (from torch>=1.11.0->sentence-transformers) (3.2.1)\n",
      "Requirement already satisfied: setuptools in d:\\anaconda\\lib\\site-packages (from torch>=1.11.0->sentence-transformers) (69.5.1)\n",
      "Requirement already satisfied: sympy==1.13.1 in d:\\anaconda\\lib\\site-packages (from torch>=1.11.0->sentence-transformers) (1.13.1)\n",
      "Requirement already satisfied: mpmath<1.4,>=1.1.0 in d:\\anaconda\\lib\\site-packages (from sympy==1.13.1->torch>=1.11.0->sentence-transformers) (1.3.0)\n",
      "Requirement already satisfied: shellingham>=1.3.0 in d:\\anaconda\\lib\\site-packages (from typer<1.0,>=0.12->gradio) (1.5.0)\n",
      "Requirement already satisfied: rich>=10.11.0 in d:\\anaconda\\lib\\site-packages (from typer<1.0,>=0.12->gradio) (13.3.5)\n",
      "Requirement already satisfied: urllib3<3,>=1.21.1 in d:\\anaconda\\lib\\site-packages (from requests->transformers) (2.2.2)\n",
      "Requirement already satisfied: joblib>=1.2.0 in d:\\anaconda\\lib\\site-packages (from scikit-learn->sentence-transformers) (1.4.2)\n",
      "Requirement already satisfied: threadpoolctl>=2.0.0 in d:\\anaconda\\lib\\site-packages (from scikit-learn->sentence-transformers) (2.2.0)\n",
      "Requirement already satisfied: cffi>=1.12 in d:\\anaconda\\lib\\site-packages (from cryptography>=36.0.0->pdfminer.six>=20200726->camelot-py[cv]) (1.16.0)\n",
      "Requirement already satisfied: markdown-it-py<3.0.0,>=2.2.0 in d:\\anaconda\\lib\\site-packages (from rich>=10.11.0->typer<1.0,>=0.12->gradio) (2.2.0)\n",
      "Requirement already satisfied: pygments<3.0.0,>=2.13.0 in d:\\anaconda\\lib\\site-packages (from rich>=10.11.0->typer<1.0,>=0.12->gradio) (2.15.1)\n",
      "Requirement already satisfied: pycparser in d:\\anaconda\\lib\\site-packages (from cffi>=1.12->cryptography>=36.0.0->pdfminer.six>=20200726->camelot-py[cv]) (2.21)\n",
      "Requirement already satisfied: mdurl~=0.1 in d:\\anaconda\\lib\\site-packages (from markdown-it-py<3.0.0,>=2.2.0->rich>=10.11.0->typer<1.0,>=0.12->gradio) (0.1.0)\n"
     ]
    }
   ],
   "source": [
    "!pip install  camelot-py[cv] sentence-transformers faiss-cpu transformers pandas flask gradio"
   ]
  },
  {
   "cell_type": "code",
   "execution_count": 14,
   "id": "8e77ccf2-c81f-4876-a083-7b7b63280edc",
   "metadata": {},
   "outputs": [
    {
     "name": "stdout",
     "output_type": "stream",
     "text": [
      "\n"
     ]
    }
   ],
   "source": [
    "import pdfplumber\n",
    "\n",
    "with pdfplumber.open('Tables- Charts- and Graphs with Examples from History- Economics- Education- Psychology- Urban Affairs and Everyday Life - 2017-2018.pdf') as pdf:\n",
    "    page_2 = pdf.pages[1]  # Page indexing starts at 0\n",
    "    text = page_2.extract_text()\n",
    "    print(text)\n",
    "    \n"
   ]
  },
  {
   "cell_type": "code",
   "execution_count": 16,
   "id": "e5c5fad3-a1f8-4b3a-8673-cf38baae6cce",
   "metadata": {},
   "outputs": [
    {
     "name": "stdout",
     "output_type": "stream",
     "text": [
      "{}\n"
     ]
    }
   ],
   "source": [
    "import re\n",
    "\n",
    "def extract_unemployment_data(text):\n",
    "    pattern = r\"(\\w+ degree): (\\d+\\.?\\d*)%\"\n",
    "    matches = re.findall(pattern, text)\n",
    "    return {degree: float(rate) for degree, rate in matches}\n",
    "\n",
    "data = extract_unemployment_data(text)\n",
    "print(data)\n"
   ]
  },
  {
   "cell_type": "code",
   "execution_count": 18,
   "id": "8769cba8-a5b4-4e98-895c-9640192a8080",
   "metadata": {},
   "outputs": [
    {
     "name": "stdout",
     "output_type": "stream",
     "text": [
      "Requirement already satisfied: camelot-py[cv] in d:\\anaconda\\lib\\site-packages (0.9.0)\n",
      "Requirement already satisfied: chardet>=3.0.4 in d:\\anaconda\\lib\\site-packages (from camelot-py[cv]) (4.0.0)\n",
      "Requirement already satisfied: click>=6.7 in d:\\anaconda\\lib\\site-packages (from camelot-py[cv]) (8.1.7)\n",
      "Requirement already satisfied: numpy>=1.13.3 in d:\\anaconda\\lib\\site-packages (from camelot-py[cv]) (1.26.4)\n",
      "Requirement already satisfied: openpyxl>=2.5.8 in d:\\anaconda\\lib\\site-packages (from camelot-py[cv]) (3.1.2)\n",
      "Requirement already satisfied: pandas>=0.23.4 in d:\\anaconda\\lib\\site-packages (from camelot-py[cv]) (2.2.2)\n",
      "Requirement already satisfied: pdfminer.six>=20200726 in d:\\anaconda\\lib\\site-packages (from camelot-py[cv]) (20231228)\n",
      "Requirement already satisfied: PyPDF2>=1.26.0 in d:\\anaconda\\lib\\site-packages (from camelot-py[cv]) (3.0.1)\n",
      "Requirement already satisfied: opencv-python>=3.4.2.17 in d:\\anaconda\\lib\\site-packages (from camelot-py[cv]) (4.10.0.84)\n",
      "Requirement already satisfied: colorama in d:\\anaconda\\lib\\site-packages (from click>=6.7->camelot-py[cv]) (0.4.6)\n",
      "Requirement already satisfied: et-xmlfile in d:\\anaconda\\lib\\site-packages (from openpyxl>=2.5.8->camelot-py[cv]) (1.1.0)\n",
      "Requirement already satisfied: python-dateutil>=2.8.2 in d:\\anaconda\\lib\\site-packages (from pandas>=0.23.4->camelot-py[cv]) (2.9.0.post0)\n",
      "Requirement already satisfied: pytz>=2020.1 in d:\\anaconda\\lib\\site-packages (from pandas>=0.23.4->camelot-py[cv]) (2024.1)\n",
      "Requirement already satisfied: tzdata>=2022.7 in d:\\anaconda\\lib\\site-packages (from pandas>=0.23.4->camelot-py[cv]) (2023.3)\n",
      "Requirement already satisfied: charset-normalizer>=2.0.0 in d:\\anaconda\\lib\\site-packages (from pdfminer.six>=20200726->camelot-py[cv]) (2.0.4)\n",
      "Requirement already satisfied: cryptography>=36.0.0 in d:\\anaconda\\lib\\site-packages (from pdfminer.six>=20200726->camelot-py[cv]) (42.0.5)\n",
      "Requirement already satisfied: cffi>=1.12 in d:\\anaconda\\lib\\site-packages (from cryptography>=36.0.0->pdfminer.six>=20200726->camelot-py[cv]) (1.16.0)\n",
      "Requirement already satisfied: six>=1.5 in d:\\anaconda\\lib\\site-packages (from python-dateutil>=2.8.2->pandas>=0.23.4->camelot-py[cv]) (1.16.0)\n",
      "Requirement already satisfied: pycparser in d:\\anaconda\\lib\\site-packages (from cffi>=1.12->cryptography>=36.0.0->pdfminer.six>=20200726->camelot-py[cv]) (2.21)\n",
      "Note: you may need to restart the kernel to use updated packages.\n"
     ]
    }
   ],
   "source": [
    "pip install camelot-py[cv]\n"
   ]
  },
  {
   "cell_type": "code",
   "execution_count": 37,
   "id": "0e8796dc-5a67-4d48-85e4-e8c595e08a13",
   "metadata": {},
   "outputs": [
    {
     "name": "stdout",
     "output_type": "stream",
     "text": [
      "Sample Text from PDF: Tables, Charts, and\n",
      "Graphs\n",
      "with Examples from History, Economics,\n",
      "Education, Psychology, Urban Affairs and\n",
      "Everyday Life\n",
      "REVISED: MICHAEL LOLKUS 2018\n"
     ]
    }
   ],
   "source": [
    "import pdfplumber\n",
    "\n",
    "def extract_text_from_pdf(pdf_path):\n",
    "    text_data = []\n",
    "    with pdfplumber.open(pdf_path) as pdf:\n",
    "        for page in pdf.pages:\n",
    "            text_data.append(page.extract_text())\n",
    "    return text_data\n",
    "\n",
    "pdf_path = \"Tables- Charts- and Graphs with Examples from History- Economics- Education- Psychology- Urban Affairs and Everyday Life - 2017-2018.pdf\"\n",
    "text_data = extract_text_from_pdf(pdf_path)\n",
    "print(\"Sample Text from PDF:\", text_data[0])  # Display first page text\n"
   ]
  },
  {
   "cell_type": "code",
   "execution_count": 40,
   "id": "3c07385a-175a-47d0-8e8b-39f2a5707d60",
   "metadata": {},
   "outputs": [
    {
     "name": "stdout",
     "output_type": "stream",
     "text": [
      "Collecting camelot==12.06.29\n",
      "  Using cached Camelot-12.06.29.tar.gz (3.5 MB)\n",
      "  Preparing metadata (setup.py): started\n",
      "  Preparing metadata (setup.py): finished with status 'done'\n",
      "Collecting SQLAlchemy<0.8.0,>=0.7.7 (from camelot==12.06.29)\n",
      "  Using cached SQLAlchemy-0.7.10.tar.gz (3.5 MB)\n",
      "  Preparing metadata (setup.py): started\n",
      "  Preparing metadata (setup.py): finished with status 'done'\n",
      "Collecting Elixir>=0.7.1 (from camelot==12.06.29)\n",
      "  Using cached Elixir-0.7.1.tar.gz (47 kB)\n",
      "  Preparing metadata (setup.py): started\n",
      "  Preparing metadata (setup.py): finished with status 'done'\n",
      "Collecting sqlalchemy-migrate>=0.7.1 (from camelot==12.06.29)\n",
      "  Using cached sqlalchemy_migrate-0.13.0-py2.py3-none-any.whl.metadata (2.7 kB)\n",
      "Requirement already satisfied: Jinja2>=2.5.5 in d:\\anaconda\\lib\\site-packages (from camelot==12.06.29) (3.1.4)\n",
      "Requirement already satisfied: chardet>=1.0.1 in d:\\anaconda\\lib\\site-packages (from camelot==12.06.29) (4.0.0)\n",
      "Collecting xlwt==0.7.2 (from camelot==12.06.29)\n",
      "  Using cached xlwt-0.7.2.zip (131 kB)\n",
      "  Preparing metadata (setup.py): started\n",
      "  Preparing metadata (setup.py): finished with status 'done'\n",
      "Collecting xlrd==0.7.1 (from camelot==12.06.29)\n",
      "  Using cached xlrd-0.7.1.zip (125 kB)\n",
      "  Preparing metadata (setup.py): started\n",
      "  Preparing metadata (setup.py): finished with status 'done'\n",
      "Requirement already satisfied: MarkupSafe>=2.0 in d:\\anaconda\\lib\\site-packages (from Jinja2>=2.5.5->camelot==12.06.29) (2.1.3)\n",
      "Collecting pbr>=1.8 (from sqlalchemy-migrate>=0.7.1->camelot==12.06.29)\n",
      "  Using cached pbr-6.1.0-py2.py3-none-any.whl.metadata (3.4 kB)\n",
      "INFO: pip is looking at multiple versions of sqlalchemy-migrate to determine which version is compatible with other requirements. This could take a while.\n",
      "Collecting sqlalchemy-migrate>=0.7.1 (from camelot==12.06.29)\n",
      "  Using cached sqlalchemy_migrate-0.12.0-py2.py3-none-any.whl.metadata (2.6 kB)\n",
      "  Using cached sqlalchemy-migrate-0.11.0.tar.gz (128 kB)\n",
      "  Preparing metadata (setup.py): started\n",
      "  Preparing metadata (setup.py): finished with status 'error'\n"
     ]
    },
    {
     "name": "stderr",
     "output_type": "stream",
     "text": [
      "  error: subprocess-exited-with-error\n",
      "  \n",
      "  × python setup.py egg_info did not run successfully.\n",
      "  │ exit code: 1\n",
      "  ╰─> [84 lines of output]\n",
      "      D:\\Anaconda\\Lib\\site-packages\\setuptools\\dist.py:476: SetuptoolsDeprecationWarning: Invalid dash-separated options\n",
      "      !!\n",
      "      \n",
      "              ********************************************************************************\n",
      "              Usage of dash-separated 'description-file' will not be supported in future\n",
      "              versions. Please use the underscore name 'description_file' instead.\n",
      "      \n",
      "              This deprecation is overdue, please update your project and remove deprecated\n",
      "              calls to avoid build errors in the future.\n",
      "      \n",
      "              See https://setuptools.pypa.io/en/latest/userguide/declarative_config.html for details.\n",
      "              ********************************************************************************\n",
      "      \n",
      "      !!\n",
      "        opt = self.warn_dash_deprecation(opt, section)\n",
      "      D:\\Anaconda\\Lib\\site-packages\\setuptools\\dist.py:476: SetuptoolsDeprecationWarning: Invalid dash-separated options\n",
      "      !!\n",
      "      \n",
      "              ********************************************************************************\n",
      "              Usage of dash-separated 'author-email' will not be supported in future\n",
      "              versions. Please use the underscore name 'author_email' instead.\n",
      "      \n",
      "              This deprecation is overdue, please update your project and remove deprecated\n",
      "              calls to avoid build errors in the future.\n",
      "      \n",
      "              See https://setuptools.pypa.io/en/latest/userguide/declarative_config.html for details.\n",
      "              ********************************************************************************\n",
      "      \n",
      "      !!\n",
      "        opt = self.warn_dash_deprecation(opt, section)\n",
      "      D:\\Anaconda\\Lib\\site-packages\\setuptools\\dist.py:476: SetuptoolsDeprecationWarning: Invalid dash-separated options\n",
      "      !!\n",
      "      \n",
      "              ********************************************************************************\n",
      "              Usage of dash-separated 'home-page' will not be supported in future\n",
      "              versions. Please use the underscore name 'home_page' instead.\n",
      "      \n",
      "              This deprecation is overdue, please update your project and remove deprecated\n",
      "              calls to avoid build errors in the future.\n",
      "      \n",
      "              See https://setuptools.pypa.io/en/latest/userguide/declarative_config.html for details.\n",
      "              ********************************************************************************\n",
      "      \n",
      "      !!\n",
      "        opt = self.warn_dash_deprecation(opt, section)\n",
      "      D:\\Anaconda\\Lib\\site-packages\\setuptools\\__init__.py:81: _DeprecatedInstaller: setuptools.installer and fetch_build_eggs are deprecated.\n",
      "      !!\n",
      "      \n",
      "              ********************************************************************************\n",
      "              Requirements should be satisfied by a PEP 517 installer.\n",
      "              If you are using pip, you can try `pip install --use-pep517`.\n",
      "              ********************************************************************************\n",
      "      \n",
      "      !!\n",
      "        dist.fetch_build_eggs(dist.setup_requires)\n",
      "      D:\\Anaconda\\Lib\\site-packages\\setuptools\\command\\develop.py:40: EasyInstallDeprecationWarning: easy_install command is deprecated.\n",
      "      !!\n",
      "      \n",
      "              ********************************************************************************\n",
      "              Please avoid running ``setup.py`` and ``easy_install``.\n",
      "              Instead, use pypa/build, pypa/installer or other\n",
      "              standards-based tools.\n",
      "      \n",
      "              See https://github.com/pypa/setuptools/issues/917 for details.\n",
      "              ********************************************************************************\n",
      "      \n",
      "      !!\n",
      "        easy_install.initialize_options(self)\n",
      "      D:\\Anaconda\\Lib\\site-packages\\setuptools\\_distutils\\cmd.py:66: SetuptoolsDeprecationWarning: setup.py install is deprecated.\n",
      "      !!\n",
      "      \n",
      "              ********************************************************************************\n",
      "              Please avoid running ``setup.py`` directly.\n",
      "              Instead, use pypa/build, pypa/installer or other\n",
      "              standards-based tools.\n",
      "      \n",
      "              See https://blog.ganssle.io/articles/2021/10/setup-py-deprecated.html for details.\n",
      "              ********************************************************************************\n",
      "      \n",
      "      !!\n",
      "        self.initialize_options()\n",
      "      error in setup command: 'tests_require' must be a string or list of strings containing valid project/version requirement specifiers; Expected end or semicolon (after version specifier)\n",
      "          pytz>=2010h\n",
      "              ~~~~~~^\n",
      "      [end of output]\n",
      "  \n",
      "  note: This error originates from a subprocess, and is likely not a problem with pip.\n",
      "error: metadata-generation-failed\n",
      "\n",
      "× Encountered error while generating package metadata.\n",
      "╰─> See above for output.\n",
      "\n",
      "note: This is an issue with the package mentioned above, not pip.\n",
      "hint: See above for details.\n"
     ]
    },
    {
     "name": "stdout",
     "output_type": "stream",
     "text": [
      "Requirement already satisfied: camelot-py[cv] in d:\\anaconda\\lib\\site-packages (0.9.0)\n",
      "Requirement already satisfied: chardet>=3.0.4 in d:\\anaconda\\lib\\site-packages (from camelot-py[cv]) (4.0.0)\n",
      "Requirement already satisfied: click>=6.7 in d:\\anaconda\\lib\\site-packages (from camelot-py[cv]) (8.1.7)\n",
      "Requirement already satisfied: numpy>=1.13.3 in d:\\anaconda\\lib\\site-packages (from camelot-py[cv]) (1.26.4)\n",
      "Requirement already satisfied: openpyxl>=2.5.8 in d:\\anaconda\\lib\\site-packages (from camelot-py[cv]) (3.1.2)\n",
      "Requirement already satisfied: pandas>=0.23.4 in d:\\anaconda\\lib\\site-packages (from camelot-py[cv]) (2.2.2)\n",
      "Requirement already satisfied: pdfminer.six>=20200726 in d:\\anaconda\\lib\\site-packages (from camelot-py[cv]) (20231228)\n",
      "Requirement already satisfied: PyPDF2>=1.26.0 in d:\\anaconda\\lib\\site-packages (from camelot-py[cv]) (3.0.1)\n",
      "Requirement already satisfied: opencv-python>=3.4.2.17 in d:\\anaconda\\lib\\site-packages (from camelot-py[cv]) (4.10.0.84)\n",
      "Requirement already satisfied: colorama in d:\\anaconda\\lib\\site-packages (from click>=6.7->camelot-py[cv]) (0.4.6)\n",
      "Requirement already satisfied: et-xmlfile in d:\\anaconda\\lib\\site-packages (from openpyxl>=2.5.8->camelot-py[cv]) (1.1.0)\n",
      "Requirement already satisfied: python-dateutil>=2.8.2 in d:\\anaconda\\lib\\site-packages (from pandas>=0.23.4->camelot-py[cv]) (2.9.0.post0)\n",
      "Requirement already satisfied: pytz>=2020.1 in d:\\anaconda\\lib\\site-packages (from pandas>=0.23.4->camelot-py[cv]) (2024.1)\n",
      "Requirement already satisfied: tzdata>=2022.7 in d:\\anaconda\\lib\\site-packages (from pandas>=0.23.4->camelot-py[cv]) (2023.3)\n",
      "Requirement already satisfied: charset-normalizer>=2.0.0 in d:\\anaconda\\lib\\site-packages (from pdfminer.six>=20200726->camelot-py[cv]) (2.0.4)\n",
      "Requirement already satisfied: cryptography>=36.0.0 in d:\\anaconda\\lib\\site-packages (from pdfminer.six>=20200726->camelot-py[cv]) (42.0.5)\n",
      "Requirement already satisfied: cffi>=1.12 in d:\\anaconda\\lib\\site-packages (from cryptography>=36.0.0->pdfminer.six>=20200726->camelot-py[cv]) (1.16.0)\n",
      "Requirement already satisfied: six>=1.5 in d:\\anaconda\\lib\\site-packages (from python-dateutil>=2.8.2->pandas>=0.23.4->camelot-py[cv]) (1.16.0)\n",
      "Requirement already satisfied: pycparser in d:\\anaconda\\lib\\site-packages (from cffi>=1.12->cryptography>=36.0.0->pdfminer.six>=20200726->camelot-py[cv]) (2.21)\n"
     ]
    }
   ],
   "source": [
    "!pip install camelot==12.06.29\n",
    "!pip install camelot-py[cv]"
   ]
  },
  {
   "cell_type": "code",
   "execution_count": 42,
   "id": "bffc73e3-b8d2-4ff7-87c2-2639a687af3d",
   "metadata": {},
   "outputs": [
    {
     "name": "stdout",
     "output_type": "stream",
     "text": [
      "Collecting camelot-py[cv]"
     ]
    },
    {
     "name": "stderr",
     "output_type": "stream",
     "text": [
      "  WARNING: Failed to remove contents in a temporary directory 'D:\\Anaconda\\Lib\\site-packages\\~umpy'.\n",
      "  You can safely remove it manually.\n",
      "  WARNING: Failed to remove contents in a temporary directory 'D:\\Anaconda\\Lib\\site-packages\\~v2'.\n",
      "  You can safely remove it manually.\n",
      "ERROR: Could not install packages due to an OSError: [WinError 5] Access is denied: 'd:\\\\anaconda\\\\lib\\\\site-packages\\\\_cffi_backend.cp312-win_amd64.pyd'\n",
      "Consider using the `--user` option or check the permissions.\n",
      "\n"
     ]
    },
    {
     "name": "stdout",
     "output_type": "stream",
     "text": [
      "\n",
      "  Using cached camelot_py-0.11.0-py3-none-any.whl.metadata (8.3 kB)\n",
      "Collecting chardet>=3.0.4 (from camelot-py[cv])\n",
      "  Downloading chardet-5.2.0-py3-none-any.whl.metadata (3.4 kB)\n",
      "Collecting click>=6.7 (from camelot-py[cv])\n",
      "  Downloading click-8.1.7-py3-none-any.whl.metadata (3.0 kB)\n",
      "Collecting numpy>=1.13.3 (from camelot-py[cv])\n",
      "  Downloading numpy-2.2.0-cp312-cp312-win_amd64.whl.metadata (60 kB)\n",
      "     ---------------------------------------- 0.0/60.8 kB ? eta -:--:--\n",
      "     ------ --------------------------------- 10.2/60.8 kB ? eta -:--:--\n",
      "     ------------------------------- ------ 51.2/60.8 kB 871.5 kB/s eta 0:00:01\n",
      "     -------------------------------------- 60.8/60.8 kB 816.2 kB/s eta 0:00:00\n",
      "Collecting openpyxl>=2.5.8 (from camelot-py[cv])\n",
      "  Downloading openpyxl-3.1.5-py2.py3-none-any.whl.metadata (2.5 kB)\n",
      "Collecting pandas>=0.23.4 (from camelot-py[cv])\n",
      "  Downloading pandas-2.2.3-cp312-cp312-win_amd64.whl.metadata (19 kB)\n",
      "Collecting pdfminer.six>=20200726 (from camelot-py[cv])\n",
      "  Downloading pdfminer.six-20240706-py3-none-any.whl.metadata (4.1 kB)\n",
      "Collecting pypdf>=3.0.0 (from camelot-py[cv])\n",
      "  Using cached pypdf-5.1.0-py3-none-any.whl.metadata (7.2 kB)\n",
      "Collecting tabulate>=0.8.9 (from camelot-py[cv])\n",
      "  Downloading tabulate-0.9.0-py3-none-any.whl.metadata (34 kB)\n",
      "Collecting ghostscript>=0.7 (from camelot-py[cv])\n",
      "  Using cached ghostscript-0.7-py2.py3-none-any.whl.metadata (4.4 kB)\n",
      "Collecting opencv-python>=3.4.2.17 (from camelot-py[cv])\n",
      "  Using cached opencv_python-4.10.0.84-cp37-abi3-win_amd64.whl.metadata (20 kB)\n",
      "INFO: pip is looking at multiple versions of camelot-py[cv] to determine which version is compatible with other requirements. This could take a while.\n",
      "Collecting camelot-py[cv]\n",
      "  Using cached camelot_py-0.10.1-py3-none-any.whl.metadata (8.3 kB)\n",
      "Collecting PyPDF2>=1.26.0 (from camelot-py[cv])\n",
      "  Using cached pypdf2-3.0.1-py3-none-any.whl.metadata (6.8 kB)\n",
      "Collecting camelot-py[cv]\n",
      "  Using cached camelot_py-0.10.0-py3-none-any.whl.metadata (8.3 kB)\n",
      "  Using cached camelot_py-0.9.0-py3-none-any.whl.metadata (7.5 kB)\n",
      "Collecting colorama (from click>=6.7->camelot-py[cv])\n",
      "  Downloading colorama-0.4.6-py2.py3-none-any.whl.metadata (17 kB)\n",
      "Collecting et-xmlfile (from openpyxl>=2.5.8->camelot-py[cv])\n",
      "  Downloading et_xmlfile-2.0.0-py3-none-any.whl.metadata (2.7 kB)\n",
      "Collecting python-dateutil>=2.8.2 (from pandas>=0.23.4->camelot-py[cv])\n",
      "  Downloading python_dateutil-2.9.0.post0-py2.py3-none-any.whl.metadata (8.4 kB)\n",
      "Collecting pytz>=2020.1 (from pandas>=0.23.4->camelot-py[cv])\n",
      "  Downloading pytz-2024.2-py2.py3-none-any.whl.metadata (22 kB)\n",
      "Collecting tzdata>=2022.7 (from pandas>=0.23.4->camelot-py[cv])\n",
      "  Downloading tzdata-2024.2-py2.py3-none-any.whl.metadata (1.4 kB)\n",
      "Collecting charset-normalizer>=2.0.0 (from pdfminer.six>=20200726->camelot-py[cv])\n",
      "  Downloading charset_normalizer-3.4.0-cp312-cp312-win_amd64.whl.metadata (34 kB)\n",
      "Collecting cryptography>=36.0.0 (from pdfminer.six>=20200726->camelot-py[cv])\n",
      "  Downloading cryptography-44.0.0-cp39-abi3-win_amd64.whl.metadata (5.7 kB)\n",
      "Collecting cffi>=1.12 (from cryptography>=36.0.0->pdfminer.six>=20200726->camelot-py[cv])\n",
      "  Downloading cffi-1.17.1-cp312-cp312-win_amd64.whl.metadata (1.6 kB)\n",
      "Collecting six>=1.5 (from python-dateutil>=2.8.2->pandas>=0.23.4->camelot-py[cv])\n",
      "  Downloading six-1.17.0-py2.py3-none-any.whl.metadata (1.7 kB)\n",
      "Collecting pycparser (from cffi>=1.12->cryptography>=36.0.0->pdfminer.six>=20200726->camelot-py[cv])\n",
      "  Downloading pycparser-2.22-py3-none-any.whl.metadata (943 bytes)\n",
      "Downloading chardet-5.2.0-py3-none-any.whl (199 kB)\n",
      "   ---------------------------------------- 0.0/199.4 kB ? eta -:--:--\n",
      "   ---------------------------------------  194.6/199.4 kB 5.9 MB/s eta 0:00:01\n",
      "   ---------------------------------------- 199.4/199.4 kB 4.0 MB/s eta 0:00:00\n",
      "Downloading click-8.1.7-py3-none-any.whl (97 kB)\n",
      "   ---------------------------------------- 0.0/97.9 kB ? eta -:--:--\n",
      "   ---------------------------------------- 97.9/97.9 kB 5.5 MB/s eta 0:00:00\n",
      "Downloading numpy-2.2.0-cp312-cp312-win_amd64.whl (12.6 MB)\n",
      "   ---------------------------------------- 0.0/12.6 MB ? eta -:--:--\n",
      "   - -------------------------------------- 0.4/12.6 MB 11.6 MB/s eta 0:00:02\n",
      "   - -------------------------------------- 0.6/12.6 MB 7.7 MB/s eta 0:00:02\n",
      "   - -------------------------------------- 0.6/12.6 MB 7.7 MB/s eta 0:00:02\n",
      "   -- ------------------------------------- 0.9/12.6 MB 5.4 MB/s eta 0:00:03\n",
      "   ---- ----------------------------------- 1.4/12.6 MB 6.5 MB/s eta 0:00:02\n",
      "   ------ --------------------------------- 2.0/12.6 MB 7.4 MB/s eta 0:00:02\n",
      "   ------- -------------------------------- 2.3/12.6 MB 7.5 MB/s eta 0:00:02\n",
      "   --------- ------------------------------ 2.9/12.6 MB 8.0 MB/s eta 0:00:02\n",
      "   ----------- ---------------------------- 3.5/12.6 MB 8.6 MB/s eta 0:00:02\n",
      "   ------------- -------------------------- 4.1/12.6 MB 9.1 MB/s eta 0:00:01\n",
      "   --------------- ------------------------ 4.9/12.6 MB 9.8 MB/s eta 0:00:01\n",
      "   ---------------- ----------------------- 5.3/12.6 MB 9.7 MB/s eta 0:00:01\n",
      "   ------------------ --------------------- 5.7/12.6 MB 9.6 MB/s eta 0:00:01\n",
      "   ------------------ --------------------- 5.9/12.6 MB 9.2 MB/s eta 0:00:01\n",
      "   ------------------- -------------------- 6.2/12.6 MB 9.1 MB/s eta 0:00:01\n",
      "   -------------------- ------------------- 6.5/12.6 MB 8.8 MB/s eta 0:00:01\n",
      "   --------------------- ------------------ 6.7/12.6 MB 8.6 MB/s eta 0:00:01\n",
      "   --------------------- ------------------ 6.9/12.6 MB 8.3 MB/s eta 0:00:01\n",
      "   ---------------------- ----------------- 7.0/12.6 MB 8.0 MB/s eta 0:00:01\n",
      "   ---------------------- ----------------- 7.1/12.6 MB 7.8 MB/s eta 0:00:01\n",
      "   ----------------------- ---------------- 7.3/12.6 MB 7.5 MB/s eta 0:00:01\n",
      "   ----------------------- ---------------- 7.4/12.6 MB 7.3 MB/s eta 0:00:01\n",
      "   ----------------------- ---------------- 7.5/12.6 MB 7.1 MB/s eta 0:00:01\n",
      "   ------------------------ --------------- 7.6/12.6 MB 6.9 MB/s eta 0:00:01\n",
      "   ------------------------ --------------- 7.7/12.6 MB 6.7 MB/s eta 0:00:01\n",
      "   ------------------------ --------------- 7.8/12.6 MB 6.5 MB/s eta 0:00:01\n",
      "   ------------------------- -------------- 7.9/12.6 MB 6.3 MB/s eta 0:00:01\n",
      "   ------------------------- -------------- 8.0/12.6 MB 6.2 MB/s eta 0:00:01\n",
      "   ------------------------- -------------- 8.1/12.6 MB 6.0 MB/s eta 0:00:01\n",
      "   -------------------------- ------------- 8.3/12.6 MB 5.8 MB/s eta 0:00:01\n",
      "   -------------------------- ------------- 8.4/12.6 MB 5.7 MB/s eta 0:00:01\n",
      "   -------------------------- ------------- 8.5/12.6 MB 5.6 MB/s eta 0:00:01\n",
      "   --------------------------- ------------ 8.6/12.6 MB 5.5 MB/s eta 0:00:01\n",
      "   --------------------------- ------------ 8.7/12.6 MB 5.4 MB/s eta 0:00:01\n",
      "   --------------------------- ------------ 8.8/12.6 MB 5.3 MB/s eta 0:00:01\n",
      "   ---------------------------- ----------- 8.9/12.6 MB 5.2 MB/s eta 0:00:01\n",
      "   ---------------------------- ----------- 9.1/12.6 MB 5.2 MB/s eta 0:00:01\n",
      "   ----------------------------- ---------- 9.2/12.6 MB 5.1 MB/s eta 0:00:01\n",
      "   ----------------------------- ---------- 9.3/12.6 MB 5.0 MB/s eta 0:00:01\n",
      "   ----------------------------- ---------- 9.5/12.6 MB 5.0 MB/s eta 0:00:01\n",
      "   ------------------------------ --------- 9.6/12.6 MB 4.9 MB/s eta 0:00:01\n",
      "   ------------------------------ --------- 9.7/12.6 MB 4.9 MB/s eta 0:00:01\n",
      "   ------------------------------- -------- 9.9/12.6 MB 4.9 MB/s eta 0:00:01\n",
      "   ------------------------------- -------- 10.0/12.6 MB 4.8 MB/s eta 0:00:01\n",
      "   -------------------------------- ------- 10.2/12.6 MB 4.8 MB/s eta 0:00:01\n",
      "   -------------------------------- ------- 10.3/12.6 MB 4.7 MB/s eta 0:00:01\n",
      "   --------------------------------- ------ 10.5/12.6 MB 4.6 MB/s eta 0:00:01\n",
      "   --------------------------------- ------ 10.5/12.6 MB 4.6 MB/s eta 0:00:01\n",
      "   --------------------------------- ------ 10.7/12.6 MB 4.5 MB/s eta 0:00:01\n",
      "   ---------------------------------- ----- 10.9/12.6 MB 4.6 MB/s eta 0:00:01\n",
      "   ---------------------------------- ----- 11.0/12.6 MB 4.5 MB/s eta 0:00:01\n",
      "   ----------------------------------- ---- 11.2/12.6 MB 4.5 MB/s eta 0:00:01\n",
      "   ------------------------------------ --- 11.4/12.6 MB 4.5 MB/s eta 0:00:01\n",
      "   ------------------------------------ --- 11.6/12.6 MB 4.4 MB/s eta 0:00:01\n",
      "   ------------------------------------- -- 11.7/12.6 MB 4.3 MB/s eta 0:00:01\n",
      "   ------------------------------------- -- 11.9/12.6 MB 4.3 MB/s eta 0:00:01\n",
      "   -------------------------------------- - 12.1/12.6 MB 4.2 MB/s eta 0:00:01\n",
      "   -------------------------------------- - 12.3/12.6 MB 4.2 MB/s eta 0:00:01\n",
      "   ---------------------------------------  12.4/12.6 MB 4.1 MB/s eta 0:00:01\n",
      "   ---------------------------------------  12.6/12.6 MB 4.1 MB/s eta 0:00:01\n",
      "   ---------------------------------------  12.6/12.6 MB 4.1 MB/s eta 0:00:01\n",
      "   ---------------------------------------  12.6/12.6 MB 4.1 MB/s eta 0:00:01\n",
      "   ---------------------------------------- 12.6/12.6 MB 3.9 MB/s eta 0:00:00\n",
      "Using cached opencv_python-4.10.0.84-cp37-abi3-win_amd64.whl (38.8 MB)\n",
      "Downloading openpyxl-3.1.5-py2.py3-none-any.whl (250 kB)\n",
      "   ---------------------------------------- 0.0/250.9 kB ? eta -:--:--\n",
      "   ------------------------------- -------- 194.6/250.9 kB 3.9 MB/s eta 0:00:01\n",
      "   ---------------------------------------  245.8/250.9 kB 3.8 MB/s eta 0:00:01\n",
      "   ---------------------------------------  245.8/250.9 kB 3.8 MB/s eta 0:00:01\n",
      "   ---------------------------------------- 250.9/250.9 kB 1.4 MB/s eta 0:00:00\n",
      "Downloading pandas-2.2.3-cp312-cp312-win_amd64.whl (11.5 MB)\n",
      "   ---------------------------------------- 0.0/11.5 MB ? eta -:--:--\n",
      "   ---------------------------------------- 0.1/11.5 MB 4.3 MB/s eta 0:00:03\n",
      "   - -------------------------------------- 0.3/11.5 MB 4.3 MB/s eta 0:00:03\n",
      "   - -------------------------------------- 0.6/11.5 MB 4.3 MB/s eta 0:00:03\n",
      "   -- ------------------------------------- 0.8/11.5 MB 4.5 MB/s eta 0:00:03\n",
      "   --- ------------------------------------ 1.0/11.5 MB 4.4 MB/s eta 0:00:03\n",
      "   ---- ----------------------------------- 1.2/11.5 MB 4.5 MB/s eta 0:00:03\n",
      "   ---- ----------------------------------- 1.4/11.5 MB 4.5 MB/s eta 0:00:03\n",
      "   ----- ---------------------------------- 1.6/11.5 MB 4.6 MB/s eta 0:00:03\n",
      "   ------ --------------------------------- 1.9/11.5 MB 4.6 MB/s eta 0:00:03\n",
      "   ------- -------------------------------- 2.1/11.5 MB 4.6 MB/s eta 0:00:03\n",
      "   -------- ------------------------------- 2.3/11.5 MB 4.7 MB/s eta 0:00:02\n",
      "   -------- ------------------------------- 2.6/11.5 MB 4.7 MB/s eta 0:00:02\n",
      "   --------- ------------------------------ 2.8/11.5 MB 4.8 MB/s eta 0:00:02\n",
      "   ---------- ----------------------------- 3.1/11.5 MB 4.8 MB/s eta 0:00:02\n",
      "   ----------- ---------------------------- 3.3/11.5 MB 4.8 MB/s eta 0:00:02\n",
      "   ------------ --------------------------- 3.6/11.5 MB 4.8 MB/s eta 0:00:02\n",
      "   ------------- -------------------------- 3.8/11.5 MB 4.9 MB/s eta 0:00:02\n",
      "   -------------- ------------------------- 4.1/11.5 MB 4.9 MB/s eta 0:00:02\n",
      "   --------------- ------------------------ 4.5/11.5 MB 4.9 MB/s eta 0:00:02\n",
      "   ---------------- ----------------------- 4.7/11.5 MB 5.0 MB/s eta 0:00:02\n",
      "   ----------------- ---------------------- 5.0/11.5 MB 5.0 MB/s eta 0:00:02\n",
      "   ------------------ --------------------- 5.3/11.5 MB 5.0 MB/s eta 0:00:02\n",
      "   ------------------- -------------------- 5.5/11.5 MB 5.0 MB/s eta 0:00:02\n",
      "   -------------------- ------------------- 5.8/11.5 MB 5.1 MB/s eta 0:00:02\n",
      "   --------------------- ------------------ 6.1/11.5 MB 5.1 MB/s eta 0:00:02\n",
      "   ---------------------- ----------------- 6.4/11.5 MB 5.2 MB/s eta 0:00:01\n",
      "   ----------------------- ---------------- 6.6/11.5 MB 5.2 MB/s eta 0:00:01\n",
      "   ------------------------ --------------- 6.9/11.5 MB 5.2 MB/s eta 0:00:01\n",
      "   ------------------------- -------------- 7.2/11.5 MB 5.2 MB/s eta 0:00:01\n",
      "   -------------------------- ------------- 7.5/11.5 MB 5.3 MB/s eta 0:00:01\n",
      "   -------------------------- ------------- 7.7/11.5 MB 5.2 MB/s eta 0:00:01\n",
      "   --------------------------- ------------ 8.0/11.5 MB 5.3 MB/s eta 0:00:01\n",
      "   ---------------------------- ----------- 8.3/11.5 MB 5.3 MB/s eta 0:00:01\n",
      "   ----------------------------- ---------- 8.6/11.5 MB 5.3 MB/s eta 0:00:01\n",
      "   ------------------------------- -------- 8.9/11.5 MB 5.4 MB/s eta 0:00:01\n",
      "   -------------------------------- ------- 9.3/11.5 MB 5.4 MB/s eta 0:00:01\n",
      "   --------------------------------- ------ 9.6/11.5 MB 5.5 MB/s eta 0:00:01\n",
      "   ---------------------------------- ----- 9.9/11.5 MB 5.5 MB/s eta 0:00:01\n",
      "   ----------------------------------- ---- 10.2/11.5 MB 5.5 MB/s eta 0:00:01\n",
      "   ------------------------------------ --- 10.5/11.5 MB 5.6 MB/s eta 0:00:01\n",
      "   ------------------------------------- -- 10.9/11.5 MB 5.7 MB/s eta 0:00:01\n",
      "   ---------------------------------------  11.2/11.5 MB 5.8 MB/s eta 0:00:01\n",
      "   ---------------------------------------  11.5/11.5 MB 5.8 MB/s eta 0:00:01\n",
      "   ---------------------------------------  11.5/11.5 MB 5.8 MB/s eta 0:00:01\n",
      "   ---------------------------------------  11.5/11.5 MB 5.8 MB/s eta 0:00:01\n",
      "   ---------------------------------------- 11.5/11.5 MB 5.5 MB/s eta 0:00:00\n",
      "Downloading pdfminer.six-20240706-py3-none-any.whl (5.6 MB)\n",
      "   ---------------------------------------- 0.0/5.6 MB ? eta -:--:--\n",
      "   - -------------------------------------- 0.2/5.6 MB 7.6 MB/s eta 0:00:01\n",
      "   --- ------------------------------------ 0.5/5.6 MB 4.9 MB/s eta 0:00:02\n",
      "   ----- ---------------------------------- 0.7/5.6 MB 5.7 MB/s eta 0:00:01\n",
      "   ------- -------------------------------- 1.0/5.6 MB 5.2 MB/s eta 0:00:01\n",
      "   -------- ------------------------------- 1.2/5.6 MB 5.3 MB/s eta 0:00:01\n",
      "   ---------- ----------------------------- 1.5/5.6 MB 5.3 MB/s eta 0:00:01\n",
      "   ------------ --------------------------- 1.8/5.6 MB 5.6 MB/s eta 0:00:01\n",
      "   -------------- ------------------------- 2.0/5.6 MB 5.3 MB/s eta 0:00:01\n",
      "   ---------------- ----------------------- 2.3/5.6 MB 5.4 MB/s eta 0:00:01\n",
      "   ------------------ --------------------- 2.6/5.6 MB 5.5 MB/s eta 0:00:01\n",
      "   ------------------- -------------------- 2.8/5.6 MB 5.6 MB/s eta 0:00:01\n",
      "   --------------------- ------------------ 3.0/5.6 MB 5.4 MB/s eta 0:00:01\n",
      "   ----------------------- ---------------- 3.3/5.6 MB 5.4 MB/s eta 0:00:01\n",
      "   ------------------------- -------------- 3.6/5.6 MB 5.4 MB/s eta 0:00:01\n",
      "   --------------------------- ------------ 3.8/5.6 MB 5.4 MB/s eta 0:00:01\n",
      "   ---------------------------- ----------- 4.0/5.6 MB 5.4 MB/s eta 0:00:01\n",
      "   ------------------------------ --------- 4.3/5.6 MB 5.4 MB/s eta 0:00:01\n",
      "   ------------------------------- -------- 4.4/5.6 MB 5.3 MB/s eta 0:00:01\n",
      "   --------------------------------- ------ 4.8/5.6 MB 5.3 MB/s eta 0:00:01\n",
      "   ----------------------------------- ---- 5.0/5.6 MB 5.4 MB/s eta 0:00:01\n",
      "   -------------------------------------- - 5.3/5.6 MB 5.4 MB/s eta 0:00:01\n",
      "   ---------------------------------------  5.6/5.6 MB 5.4 MB/s eta 0:00:01\n",
      "   ---------------------------------------  5.6/5.6 MB 5.4 MB/s eta 0:00:01\n",
      "   ---------------------------------------  5.6/5.6 MB 5.4 MB/s eta 0:00:01\n",
      "   ---------------------------------------- 5.6/5.6 MB 4.8 MB/s eta 0:00:00\n",
      "Using cached pypdf2-3.0.1-py3-none-any.whl (232 kB)\n",
      "Using cached camelot_py-0.9.0-py3-none-any.whl (43 kB)\n",
      "Downloading charset_normalizer-3.4.0-cp312-cp312-win_amd64.whl (102 kB)\n",
      "   ---------------------------------------- 0.0/102.2 kB ? eta -:--:--\n",
      "   ------------------------------------ --- 92.2/102.2 kB 5.5 MB/s eta 0:00:01\n",
      "   ------------------------------------ --- 92.2/102.2 kB 5.5 MB/s eta 0:00:01\n",
      "   -------------------------------------- 102.2/102.2 kB 843.5 kB/s eta 0:00:00\n",
      "Downloading cryptography-44.0.0-cp39-abi3-win_amd64.whl (3.2 MB)\n",
      "   ---------------------------------------- 0.0/3.2 MB ? eta -:--:--\n",
      "   --- ------------------------------------ 0.3/3.2 MB 5.4 MB/s eta 0:00:01\n",
      "   ----- ---------------------------------- 0.5/3.2 MB 4.7 MB/s eta 0:00:01\n",
      "   --------- ------------------------------ 0.8/3.2 MB 5.3 MB/s eta 0:00:01\n",
      "   ------------- -------------------------- 1.1/3.2 MB 5.6 MB/s eta 0:00:01\n",
      "   ---------------- ----------------------- 1.3/3.2 MB 5.6 MB/s eta 0:00:01\n",
      "   -------------------- ------------------- 1.7/3.2 MB 5.9 MB/s eta 0:00:01\n",
      "   ------------------------- -------------- 2.0/3.2 MB 6.1 MB/s eta 0:00:01\n",
      "   ----------------------------- ---------- 2.4/3.2 MB 6.3 MB/s eta 0:00:01\n",
      "   --------------------------------- ------ 2.7/3.2 MB 6.4 MB/s eta 0:00:01\n",
      "   ------------------------------------- -- 3.0/3.2 MB 6.4 MB/s eta 0:00:01\n",
      "   ---------------------------------------  3.2/3.2 MB 6.5 MB/s eta 0:00:01\n",
      "   ---------------------------------------  3.2/3.2 MB 6.5 MB/s eta 0:00:01\n",
      "   ---------------------------------------  3.2/3.2 MB 5.4 MB/s eta 0:00:01\n",
      "   ---------------------------------------  3.2/3.2 MB 5.4 MB/s eta 0:00:01\n",
      "   ---------------------------------------- 3.2/3.2 MB 4.7 MB/s eta 0:00:00\n",
      "Downloading python_dateutil-2.9.0.post0-py2.py3-none-any.whl (229 kB)\n",
      "   ---------------------------------------- 0.0/229.9 kB ? eta -:--:--\n",
      "   ---------------------------------------  225.3/229.9 kB 6.9 MB/s eta 0:00:01\n",
      "   ---------------------------------------- 229.9/229.9 kB 4.8 MB/s eta 0:00:00\n",
      "Downloading pytz-2024.2-py2.py3-none-any.whl (508 kB)\n",
      "   ---------------------------------------- 0.0/508.0 kB ? eta -:--:--\n",
      "   -------------------------- ------------- 337.9/508.0 kB 7.0 MB/s eta 0:00:01\n",
      "   -------------------------------------- - 491.5/508.0 kB 7.8 MB/s eta 0:00:01\n",
      "   ---------------------------------------  501.8/508.0 kB 3.9 MB/s eta 0:00:01\n",
      "   ---------------------------------------- 508.0/508.0 kB 3.2 MB/s eta 0:00:00\n",
      "Downloading tzdata-2024.2-py2.py3-none-any.whl (346 kB)\n",
      "   ---------------------------------------- 0.0/346.6 kB ? eta -:--:--\n",
      "   ----------------------------------- ---- 307.2/346.6 kB 6.3 MB/s eta 0:00:01\n",
      "   -------------------------------------- - 337.9/346.6 kB 7.0 MB/s eta 0:00:01\n",
      "   -------------------------------------- - 337.9/346.6 kB 7.0 MB/s eta 0:00:01\n",
      "   ---------------------------------------- 346.6/346.6 kB 1.8 MB/s eta 0:00:00\n",
      "Downloading colorama-0.4.6-py2.py3-none-any.whl (25 kB)\n",
      "Downloading et_xmlfile-2.0.0-py3-none-any.whl (18 kB)\n",
      "Downloading cffi-1.17.1-cp312-cp312-win_amd64.whl (181 kB)\n",
      "   ---------------------------------------- 0.0/182.0 kB ? eta -:--:--\n",
      "   ---------------------------------------- 182.0/182.0 kB 5.4 MB/s eta 0:00:00\n",
      "Downloading six-1.17.0-py2.py3-none-any.whl (11 kB)\n",
      "Downloading pycparser-2.22-py3-none-any.whl (117 kB)\n",
      "   ---------------------------------------- 0.0/117.6 kB ? eta -:--:--\n",
      "   ---------------------------------------- 117.6/117.6 kB 2.3 MB/s eta 0:00:00\n",
      "Installing collected packages: pytz, tzdata, six, PyPDF2, pycparser, numpy, et-xmlfile, colorama, charset-normalizer, chardet, python-dateutil, openpyxl, opencv-python, click, cffi, pandas, cryptography, pdfminer.six, camelot-py\n",
      "  Attempting uninstall: pytz\n",
      "    Found existing installation: pytz 2024.1\n",
      "    Uninstalling pytz-2024.1:\n",
      "      Successfully uninstalled pytz-2024.1\n",
      "  Attempting uninstall: tzdata\n",
      "    Found existing installation: tzdata 2023.3\n",
      "    Uninstalling tzdata-2023.3:\n",
      "      Successfully uninstalled tzdata-2023.3\n",
      "  Attempting uninstall: six\n",
      "    Found existing installation: six 1.16.0\n",
      "    Uninstalling six-1.16.0:\n",
      "      Successfully uninstalled six-1.16.0\n",
      "  Attempting uninstall: PyPDF2\n",
      "    Found existing installation: PyPDF2 3.0.1\n",
      "    Uninstalling PyPDF2-3.0.1:\n",
      "      Successfully uninstalled PyPDF2-3.0.1\n",
      "  Attempting uninstall: pycparser\n",
      "    Found existing installation: pycparser 2.21\n",
      "    Uninstalling pycparser-2.21:\n",
      "      Successfully uninstalled pycparser-2.21\n",
      "  Attempting uninstall: numpy\n",
      "    Found existing installation: numpy 1.26.4\n",
      "    Uninstalling numpy-1.26.4:\n",
      "      Successfully uninstalled numpy-1.26.4\n",
      "  Attempting uninstall: et-xmlfile\n",
      "    Found existing installation: et-xmlfile 1.1.0\n",
      "    Uninstalling et-xmlfile-1.1.0:\n",
      "      Successfully uninstalled et-xmlfile-1.1.0\n",
      "  Attempting uninstall: colorama\n",
      "    Found existing installation: colorama 0.4.6\n",
      "    Uninstalling colorama-0.4.6:\n",
      "      Successfully uninstalled colorama-0.4.6\n",
      "  Attempting uninstall: charset-normalizer\n",
      "    Found existing installation: charset-normalizer 2.0.4\n",
      "    Uninstalling charset-normalizer-2.0.4:\n",
      "      Successfully uninstalled charset-normalizer-2.0.4\n",
      "  Attempting uninstall: chardet\n",
      "    Found existing installation: chardet 4.0.0\n",
      "    Uninstalling chardet-4.0.0:\n",
      "      Successfully uninstalled chardet-4.0.0\n",
      "  Attempting uninstall: python-dateutil\n",
      "    Found existing installation: python-dateutil 2.9.0.post0\n",
      "    Uninstalling python-dateutil-2.9.0.post0:\n",
      "      Successfully uninstalled python-dateutil-2.9.0.post0\n",
      "  Attempting uninstall: openpyxl\n",
      "    Found existing installation: openpyxl 3.1.2\n",
      "    Uninstalling openpyxl-3.1.2:\n",
      "      Successfully uninstalled openpyxl-3.1.2\n",
      "  Attempting uninstall: opencv-python\n",
      "    Found existing installation: opencv-python 4.10.0.84\n",
      "    Uninstalling opencv-python-4.10.0.84:\n",
      "      Successfully uninstalled opencv-python-4.10.0.84\n",
      "  Attempting uninstall: click\n",
      "    Found existing installation: click 8.1.7\n",
      "    Uninstalling click-8.1.7:\n",
      "      Successfully uninstalled click-8.1.7\n",
      "  Attempting uninstall: cffi\n",
      "    Found existing installation: cffi 1.16.0\n",
      "    Uninstalling cffi-1.16.0:\n"
     ]
    }
   ],
   "source": [
    "!pip install --force-reinstall camelot-py[cv]"
   ]
  },
  {
   "cell_type": "code",
   "execution_count": 43,
   "id": "7a760324-4704-416a-90c4-76a87415c4db",
   "metadata": {},
   "outputs": [
    {
     "name": "stdout",
     "output_type": "stream",
     "text": [
      "Collecting tabula-py\n",
      "  Downloading tabula_py-2.10.0-py3-none-any.whl.metadata (7.6 kB)\n",
      "Requirement already satisfied: pandas>=0.25.3 in d:\\anaconda\\lib\\site-packages (from tabula-py) (2.2.2)\n",
      "Requirement already satisfied: numpy>1.24.4 in d:\\anaconda\\lib\\site-packages (from tabula-py) (2.2.0)\n",
      "Requirement already satisfied: distro in d:\\anaconda\\lib\\site-packages (from tabula-py) (1.9.0)\n",
      "Requirement already satisfied: python-dateutil>=2.8.2 in d:\\anaconda\\lib\\site-packages (from pandas>=0.25.3->tabula-py) (2.9.0.post0)\n",
      "Requirement already satisfied: pytz>=2020.1 in d:\\anaconda\\lib\\site-packages (from pandas>=0.25.3->tabula-py) (2024.2)\n",
      "Requirement already satisfied: tzdata>=2022.7 in d:\\anaconda\\lib\\site-packages (from pandas>=0.25.3->tabula-py) (2024.2)\n",
      "Requirement already satisfied: six>=1.5 in d:\\anaconda\\lib\\site-packages (from python-dateutil>=2.8.2->pandas>=0.25.3->tabula-py) (1.17.0)\n",
      "Downloading tabula_py-2.10.0-py3-none-any.whl (12.0 MB)\n",
      "   ---------------------------------------- 0.0/12.0 MB ? eta -:--:--\n",
      "   ---------------------------------------- 0.0/12.0 MB ? eta -:--:--\n",
      "   ---------------------------------------- 0.1/12.0 MB 975.2 kB/s eta 0:00:13\n",
      "    --------------------------------------- 0.3/12.0 MB 2.5 MB/s eta 0:00:05\n",
      "   - -------------------------------------- 0.5/12.0 MB 3.0 MB/s eta 0:00:04\n",
      "   -- ------------------------------------- 0.7/12.0 MB 3.4 MB/s eta 0:00:04\n",
      "   --- ------------------------------------ 1.2/12.0 MB 4.6 MB/s eta 0:00:03\n",
      "   ------ --------------------------------- 1.8/12.0 MB 6.2 MB/s eta 0:00:02\n",
      "   -------- ------------------------------- 2.5/12.0 MB 7.4 MB/s eta 0:00:02\n",
      "   ---------- ----------------------------- 3.2/12.0 MB 8.3 MB/s eta 0:00:02\n",
      "   ------------- -------------------------- 3.9/12.0 MB 8.9 MB/s eta 0:00:01\n",
      "   -------------- ------------------------- 4.5/12.0 MB 8.9 MB/s eta 0:00:01\n",
      "   --------------- ------------------------ 4.8/12.0 MB 8.7 MB/s eta 0:00:01\n",
      "   ------------------ --------------------- 5.4/12.0 MB 9.1 MB/s eta 0:00:01\n",
      "   ------------------ --------------------- 5.7/12.0 MB 8.9 MB/s eta 0:00:01\n",
      "   ------------------- -------------------- 5.9/12.0 MB 8.6 MB/s eta 0:00:01\n",
      "   -------------------- ------------------- 6.0/12.0 MB 8.2 MB/s eta 0:00:01\n",
      "   -------------------- ------------------- 6.2/12.0 MB 7.9 MB/s eta 0:00:01\n",
      "   -------------------- ------------------- 6.2/12.0 MB 7.5 MB/s eta 0:00:01\n",
      "   -------------------- ------------------- 6.3/12.0 MB 7.2 MB/s eta 0:00:01\n",
      "   --------------------- ------------------ 6.4/12.0 MB 6.9 MB/s eta 0:00:01\n",
      "   --------------------- ------------------ 6.4/12.0 MB 6.6 MB/s eta 0:00:01\n",
      "   --------------------- ------------------ 6.5/12.0 MB 6.4 MB/s eta 0:00:01\n",
      "   --------------------- ------------------ 6.6/12.0 MB 6.2 MB/s eta 0:00:01\n",
      "   ---------------------- ----------------- 6.6/12.0 MB 6.0 MB/s eta 0:00:01\n",
      "   ---------------------- ----------------- 6.7/12.0 MB 5.8 MB/s eta 0:00:01\n",
      "   ---------------------- ----------------- 6.7/12.0 MB 5.7 MB/s eta 0:00:01\n",
      "   ---------------------- ----------------- 6.7/12.0 MB 5.7 MB/s eta 0:00:01\n",
      "   ---------------------- ----------------- 6.7/12.0 MB 5.7 MB/s eta 0:00:01\n",
      "   ---------------------- ----------------- 6.7/12.0 MB 5.7 MB/s eta 0:00:01\n",
      "   ---------------------- ----------------- 6.7/12.0 MB 5.7 MB/s eta 0:00:01\n",
      "   ---------------------- ----------------- 6.7/12.0 MB 5.7 MB/s eta 0:00:01\n",
      "   ---------------------- ----------------- 6.7/12.0 MB 5.7 MB/s eta 0:00:01\n",
      "   ---------------------- ----------------- 6.7/12.0 MB 5.7 MB/s eta 0:00:01\n",
      "   ---------------------- ----------------- 6.7/12.0 MB 5.7 MB/s eta 0:00:01\n",
      "   ---------------------- ----------------- 6.7/12.0 MB 5.7 MB/s eta 0:00:01\n",
      "   ------------------------- -------------- 7.7/12.0 MB 4.6 MB/s eta 0:00:01\n",
      "   ------------------------- -------------- 7.8/12.0 MB 4.5 MB/s eta 0:00:01\n",
      "   -------------------------- ------------- 7.8/12.0 MB 4.4 MB/s eta 0:00:01\n",
      "   -------------------------- ------------- 7.9/12.0 MB 4.4 MB/s eta 0:00:01\n",
      "   -------------------------- ------------- 8.0/12.0 MB 4.3 MB/s eta 0:00:01\n",
      "   --------------------------- ------------ 8.2/12.0 MB 4.3 MB/s eta 0:00:01\n",
      "   --------------------------- ------------ 8.3/12.0 MB 4.3 MB/s eta 0:00:01\n",
      "   --------------------------- ------------ 8.3/12.0 MB 4.2 MB/s eta 0:00:01\n",
      "   --------------------------- ------------ 8.4/12.0 MB 4.1 MB/s eta 0:00:01\n",
      "   ---------------------------- ----------- 8.5/12.0 MB 4.1 MB/s eta 0:00:01\n",
      "   ---------------------------- ----------- 8.7/12.0 MB 4.0 MB/s eta 0:00:01\n",
      "   ----------------------------- ---------- 8.8/12.0 MB 4.0 MB/s eta 0:00:01\n",
      "   ----------------------------- ---------- 9.0/12.0 MB 4.0 MB/s eta 0:00:01\n",
      "   ------------------------------ --------- 9.1/12.0 MB 4.0 MB/s eta 0:00:01\n",
      "   ------------------------------ --------- 9.3/12.0 MB 4.0 MB/s eta 0:00:01\n",
      "   ------------------------------- -------- 9.4/12.0 MB 4.0 MB/s eta 0:00:01\n",
      "   ------------------------------- -------- 9.6/12.0 MB 3.9 MB/s eta 0:00:01\n",
      "   -------------------------------- ------- 9.7/12.0 MB 3.9 MB/s eta 0:00:01\n",
      "   -------------------------------- ------- 9.9/12.0 MB 3.9 MB/s eta 0:00:01\n",
      "   --------------------------------- ------ 10.0/12.0 MB 3.9 MB/s eta 0:00:01\n",
      "   --------------------------------- ------ 10.2/12.0 MB 3.9 MB/s eta 0:00:01\n",
      "   ---------------------------------- ----- 10.4/12.0 MB 4.0 MB/s eta 0:00:01\n",
      "   ----------------------------------- ---- 10.5/12.0 MB 3.9 MB/s eta 0:00:01\n",
      "   ----------------------------------- ---- 10.7/12.0 MB 3.9 MB/s eta 0:00:01\n",
      "   ------------------------------------ --- 10.9/12.0 MB 3.9 MB/s eta 0:00:01\n",
      "   ------------------------------------ --- 11.1/12.0 MB 3.9 MB/s eta 0:00:01\n",
      "   ------------------------------------- -- 11.3/12.0 MB 3.9 MB/s eta 0:00:01\n",
      "   -------------------------------------- - 11.5/12.0 MB 3.8 MB/s eta 0:00:01\n",
      "   -------------------------------------- - 11.7/12.0 MB 3.8 MB/s eta 0:00:01\n",
      "   ---------------------------------------  11.9/12.0 MB 3.7 MB/s eta 0:00:01\n",
      "   ---------------------------------------  12.0/12.0 MB 3.7 MB/s eta 0:00:01\n",
      "   ---------------------------------------  12.0/12.0 MB 3.7 MB/s eta 0:00:01\n",
      "   ---------------------------------------- 12.0/12.0 MB 3.6 MB/s eta 0:00:00\n",
      "Installing collected packages: tabula-py\n",
      "Successfully installed tabula-py-2.10.0\n"
     ]
    }
   ],
   "source": [
    "!pip install tabula-py"
   ]
  },
  {
   "cell_type": "code",
   "execution_count": 44,
   "id": "2a110587-51e1-4f0f-b8b3-5a46c5bf1828",
   "metadata": {},
   "outputs": [
    {
     "name": "stderr",
     "output_type": "stream",
     "text": [
      "'apt-get' is not recognized as an internal or external command,\n",
      "operable program or batch file.\n"
     ]
    }
   ],
   "source": [
    "!apt-get update && apt-get install -y default-jre"
   ]
  },
  {
   "cell_type": "code",
   "execution_count": 50,
   "id": "35ee0b98-95e9-429d-9b2b-212d841a5785",
   "metadata": {},
   "outputs": [
    {
     "name": "stderr",
     "output_type": "stream",
     "text": [
      "Failed to import jpype dependencies. Fallback to subprocess.\n",
      "No module named 'jpype'\n",
      "Got stderr: Dec 16, 2024 9:13:34 PM org.apache.pdfbox.pdmodel.font.FileSystemFontProvider loadDiskCache\n",
      "WARNING: New fonts found, font cache will be re-built\n",
      "Dec 16, 2024 9:13:34 PM org.apache.pdfbox.pdmodel.font.FileSystemFontProvider <init>\n",
      "WARNING: Building on-disk font cache, this may take a while\n",
      "Dec 16, 2024 9:13:36 PM org.apache.pdfbox.pdmodel.font.FileSystemFontProvider <init>\n",
      "WARNING: Finished building on-disk font cache, found 390 fonts\n",
      "\n"
     ]
    },
    {
     "data": {
      "text/plain": [
       "25"
      ]
     },
     "execution_count": 50,
     "metadata": {},
     "output_type": "execute_result"
    }
   ],
   "source": [
    "from tabula import read_pdf\n",
    "\n",
    "# Retry extracting tables from the PDF using tabula after installing Java\n",
    "tabula_tables = read_pdf(pdf_path, pages='all', multiple_tables=True, lattice=True)\n",
    "\n",
    "# Display the number of tables extracted\n",
    "len(tabula_tables)"
   ]
  },
  {
   "cell_type": "code",
   "execution_count": 52,
   "id": "1e882981-610d-44bc-a704-07e5b44c8cae",
   "metadata": {},
   "outputs": [
    {
     "data": {
      "text/plain": [
       "25"
      ]
     },
     "execution_count": 52,
     "metadata": {},
     "output_type": "execute_result"
    }
   ],
   "source": [
    "from tabula import read_pdf\n",
    "\n",
    "# Retry extracting tables from the PDF using tabula after installing Java\n",
    "tabula_tables = read_pdf(pdf_path, pages='all', multiple_tables=True, lattice=True)\n",
    "\n",
    "# Display the number of tables extracted\n",
    "len(tabula_tables)"
   ]
  },
  {
   "cell_type": "code",
   "execution_count": 54,
   "id": "0e280b65-0273-42f8-a22c-1cc7a20cd9df",
   "metadata": {},
   "outputs": [
    {
     "name": "stdout",
     "output_type": "stream",
     "text": [
      "Table from page 6 has been saved as table_page_6.csv.\n"
     ]
    }
   ],
   "source": [
    "import pandas as pd\n",
    "\n",
    "# Check if the extracted tables exist and handle the 6th table (page 6)\n",
    "if len(tabula_tables) > 5:\n",
    "    # Access the table from page 6\n",
    "    table_page_6 = tabula_tables[5]\n",
    "\n",
    "    # Ensure the table is a pandas DataFrame\n",
    "    if isinstance(table_page_6, pd.DataFrame):\n",
    "        # Save the table to a CSV file\n",
    "        table_page_6.to_csv(\"table_page_6.csv\", index=False)\n",
    "        print(\"Table from page 6 has been saved as table_page_6.csv.\")\n",
    "    else:\n",
    "        print(\"Error: The extracted table on page 6 is not a pandas DataFrame.\")\n",
    "else:\n",
    "    print(\"Error: Table on page 6 does not exist in the extracted data.\")"
   ]
  },
  {
   "cell_type": "code",
   "execution_count": 56,
   "id": "4f6c4147-02cf-452e-ac3b-38ef0f5443c2",
   "metadata": {},
   "outputs": [
    {
     "name": "stdout",
     "output_type": "stream",
     "text": [
      "Number of Chunks: 18\n"
     ]
    }
   ],
   "source": [
    "def segment_text_into_chunks(text, max_length=500):\n",
    "    chunks = []\n",
    "    for page in text:\n",
    "        words = page.split()\n",
    "        for i in range(0, len(words), max_length):\n",
    "            chunks.append(\" \".join(words[i:i + max_length]))\n",
    "    return chunks\n",
    "\n",
    "text_chunks = segment_text_into_chunks(text_data)\n",
    "print(\"Number of Chunks:\", len(text_chunks))"
   ]
  },
  {
   "cell_type": "code",
   "execution_count": 58,
   "id": "430695a5-053c-4ca3-b368-1c9815254924",
   "metadata": {},
   "outputs": [
    {
     "name": "stdout",
     "output_type": "stream",
     "text": [
      "Requirement already satisfied: sentence_transformers==3.3.1 in d:\\anaconda\\lib\\site-packages (3.3.1)\n",
      "Requirement already satisfied: transformers<5.0.0,>=4.41.0 in d:\\anaconda\\lib\\site-packages (from sentence_transformers==3.3.1) (4.47.0)\n",
      "Requirement already satisfied: tqdm in d:\\anaconda\\lib\\site-packages (from sentence_transformers==3.3.1) (4.66.4)\n",
      "Requirement already satisfied: torch>=1.11.0 in d:\\anaconda\\lib\\site-packages (from sentence_transformers==3.3.1) (2.5.1)\n",
      "Requirement already satisfied: scikit-learn in d:\\anaconda\\lib\\site-packages (from sentence_transformers==3.3.1) (1.4.2)\n",
      "Requirement already satisfied: scipy in d:\\anaconda\\lib\\site-packages (from sentence_transformers==3.3.1) (1.13.1)\n",
      "Requirement already satisfied: huggingface-hub>=0.20.0 in d:\\anaconda\\lib\\site-packages (from sentence_transformers==3.3.1) (0.27.0)\n",
      "Requirement already satisfied: Pillow in d:\\anaconda\\lib\\site-packages (from sentence_transformers==3.3.1) (10.3.0)\n",
      "Requirement already satisfied: filelock in d:\\anaconda\\lib\\site-packages (from huggingface-hub>=0.20.0->sentence_transformers==3.3.1) (3.13.1)\n",
      "Requirement already satisfied: fsspec>=2023.5.0 in d:\\anaconda\\lib\\site-packages (from huggingface-hub>=0.20.0->sentence_transformers==3.3.1) (2024.3.1)\n",
      "Requirement already satisfied: packaging>=20.9 in d:\\anaconda\\lib\\site-packages (from huggingface-hub>=0.20.0->sentence_transformers==3.3.1) (23.2)\n",
      "Requirement already satisfied: pyyaml>=5.1 in d:\\anaconda\\lib\\site-packages (from huggingface-hub>=0.20.0->sentence_transformers==3.3.1) (6.0.1)\n",
      "Requirement already satisfied: requests in d:\\anaconda\\lib\\site-packages (from huggingface-hub>=0.20.0->sentence_transformers==3.3.1) (2.32.2)\n",
      "Requirement already satisfied: typing-extensions>=3.7.4.3 in d:\\anaconda\\lib\\site-packages (from huggingface-hub>=0.20.0->sentence_transformers==3.3.1) (4.11.0)\n",
      "Requirement already satisfied: networkx in d:\\anaconda\\lib\\site-packages (from torch>=1.11.0->sentence_transformers==3.3.1) (3.2.1)\n",
      "Requirement already satisfied: jinja2 in d:\\anaconda\\lib\\site-packages (from torch>=1.11.0->sentence_transformers==3.3.1) (3.1.4)\n",
      "Requirement already satisfied: setuptools in d:\\anaconda\\lib\\site-packages (from torch>=1.11.0->sentence_transformers==3.3.1) (69.5.1)\n",
      "Requirement already satisfied: sympy==1.13.1 in d:\\anaconda\\lib\\site-packages (from torch>=1.11.0->sentence_transformers==3.3.1) (1.13.1)\n",
      "Requirement already satisfied: mpmath<1.4,>=1.1.0 in d:\\anaconda\\lib\\site-packages (from sympy==1.13.1->torch>=1.11.0->sentence_transformers==3.3.1) (1.3.0)\n",
      "Requirement already satisfied: colorama in d:\\anaconda\\lib\\site-packages (from tqdm->sentence_transformers==3.3.1) (0.4.6)\n",
      "Requirement already satisfied: numpy>=1.17 in d:\\anaconda\\lib\\site-packages (from transformers<5.0.0,>=4.41.0->sentence_transformers==3.3.1) (2.2.0)\n",
      "Requirement already satisfied: regex!=2019.12.17 in d:\\anaconda\\lib\\site-packages (from transformers<5.0.0,>=4.41.0->sentence_transformers==3.3.1) (2023.10.3)\n",
      "Requirement already satisfied: tokenizers<0.22,>=0.21 in d:\\anaconda\\lib\\site-packages (from transformers<5.0.0,>=4.41.0->sentence_transformers==3.3.1) (0.21.0)\n",
      "Requirement already satisfied: safetensors>=0.4.1 in d:\\anaconda\\lib\\site-packages (from transformers<5.0.0,>=4.41.0->sentence_transformers==3.3.1) (0.4.5)\n",
      "Requirement already satisfied: joblib>=1.2.0 in d:\\anaconda\\lib\\site-packages (from scikit-learn->sentence_transformers==3.3.1) (1.4.2)\n",
      "Requirement already satisfied: threadpoolctl>=2.0.0 in d:\\anaconda\\lib\\site-packages (from scikit-learn->sentence_transformers==3.3.1) (2.2.0)\n",
      "Requirement already satisfied: MarkupSafe>=2.0 in d:\\anaconda\\lib\\site-packages (from jinja2->torch>=1.11.0->sentence_transformers==3.3.1) (2.1.3)\n",
      "Requirement already satisfied: charset-normalizer<4,>=2 in d:\\anaconda\\lib\\site-packages (from requests->huggingface-hub>=0.20.0->sentence_transformers==3.3.1) (3.4.0)\n",
      "Requirement already satisfied: idna<4,>=2.5 in d:\\anaconda\\lib\\site-packages (from requests->huggingface-hub>=0.20.0->sentence_transformers==3.3.1) (3.7)\n",
      "Requirement already satisfied: urllib3<3,>=1.21.1 in d:\\anaconda\\lib\\site-packages (from requests->huggingface-hub>=0.20.0->sentence_transformers==3.3.1) (2.2.2)\n",
      "Requirement already satisfied: certifi>=2017.4.17 in d:\\anaconda\\lib\\site-packages (from requests->huggingface-hub>=0.20.0->sentence_transformers==3.3.1) (2024.8.30)\n"
     ]
    }
   ],
   "source": [
    "!pip install sentence_transformers==3.3.1"
   ]
  },
  {
   "cell_type": "code",
   "execution_count": 60,
   "id": "f6375c24-4db4-4f71-a0ba-cbbfd3640c02",
   "metadata": {},
   "outputs": [
    {
     "name": "stdout",
     "output_type": "stream",
     "text": [
      "Requirement already satisfied: sentence-transformers in d:\\anaconda\\lib\\site-packages (3.3.1)\n",
      "Requirement already satisfied: transformers<5.0.0,>=4.41.0 in d:\\anaconda\\lib\\site-packages (from sentence-transformers) (4.47.0)\n",
      "Requirement already satisfied: tqdm in d:\\anaconda\\lib\\site-packages (from sentence-transformers) (4.66.4)\n",
      "Requirement already satisfied: torch>=1.11.0 in d:\\anaconda\\lib\\site-packages (from sentence-transformers) (2.5.1)\n",
      "Requirement already satisfied: scikit-learn in d:\\anaconda\\lib\\site-packages (from sentence-transformers) (1.4.2)\n",
      "Requirement already satisfied: scipy in d:\\anaconda\\lib\\site-packages (from sentence-transformers) (1.13.1)\n",
      "Requirement already satisfied: huggingface-hub>=0.20.0 in d:\\anaconda\\lib\\site-packages (from sentence-transformers) (0.27.0)\n",
      "Requirement already satisfied: Pillow in d:\\anaconda\\lib\\site-packages (from sentence-transformers) (10.3.0)\n",
      "Requirement already satisfied: filelock in d:\\anaconda\\lib\\site-packages (from huggingface-hub>=0.20.0->sentence-transformers) (3.13.1)\n",
      "Requirement already satisfied: fsspec>=2023.5.0 in d:\\anaconda\\lib\\site-packages (from huggingface-hub>=0.20.0->sentence-transformers) (2024.3.1)\n",
      "Requirement already satisfied: packaging>=20.9 in d:\\anaconda\\lib\\site-packages (from huggingface-hub>=0.20.0->sentence-transformers) (23.2)\n",
      "Requirement already satisfied: pyyaml>=5.1 in d:\\anaconda\\lib\\site-packages (from huggingface-hub>=0.20.0->sentence-transformers) (6.0.1)\n",
      "Requirement already satisfied: requests in d:\\anaconda\\lib\\site-packages (from huggingface-hub>=0.20.0->sentence-transformers) (2.32.2)\n",
      "Requirement already satisfied: typing-extensions>=3.7.4.3 in d:\\anaconda\\lib\\site-packages (from huggingface-hub>=0.20.0->sentence-transformers) (4.11.0)\n",
      "Requirement already satisfied: networkx in d:\\anaconda\\lib\\site-packages (from torch>=1.11.0->sentence-transformers) (3.2.1)\n",
      "Requirement already satisfied: jinja2 in d:\\anaconda\\lib\\site-packages (from torch>=1.11.0->sentence-transformers) (3.1.4)\n",
      "Requirement already satisfied: setuptools in d:\\anaconda\\lib\\site-packages (from torch>=1.11.0->sentence-transformers) (69.5.1)\n",
      "Requirement already satisfied: sympy==1.13.1 in d:\\anaconda\\lib\\site-packages (from torch>=1.11.0->sentence-transformers) (1.13.1)\n",
      "Requirement already satisfied: mpmath<1.4,>=1.1.0 in d:\\anaconda\\lib\\site-packages (from sympy==1.13.1->torch>=1.11.0->sentence-transformers) (1.3.0)\n",
      "Requirement already satisfied: colorama in d:\\anaconda\\lib\\site-packages (from tqdm->sentence-transformers) (0.4.6)\n",
      "Requirement already satisfied: numpy>=1.17 in d:\\anaconda\\lib\\site-packages (from transformers<5.0.0,>=4.41.0->sentence-transformers) (2.2.0)\n",
      "Requirement already satisfied: regex!=2019.12.17 in d:\\anaconda\\lib\\site-packages (from transformers<5.0.0,>=4.41.0->sentence-transformers) (2023.10.3)\n",
      "Requirement already satisfied: tokenizers<0.22,>=0.21 in d:\\anaconda\\lib\\site-packages (from transformers<5.0.0,>=4.41.0->sentence-transformers) (0.21.0)\n",
      "Requirement already satisfied: safetensors>=0.4.1 in d:\\anaconda\\lib\\site-packages (from transformers<5.0.0,>=4.41.0->sentence-transformers) (0.4.5)\n",
      "Requirement already satisfied: joblib>=1.2.0 in d:\\anaconda\\lib\\site-packages (from scikit-learn->sentence-transformers) (1.4.2)\n",
      "Requirement already satisfied: threadpoolctl>=2.0.0 in d:\\anaconda\\lib\\site-packages (from scikit-learn->sentence-transformers) (2.2.0)\n",
      "Requirement already satisfied: MarkupSafe>=2.0 in d:\\anaconda\\lib\\site-packages (from jinja2->torch>=1.11.0->sentence-transformers) (2.1.3)\n",
      "Requirement already satisfied: charset-normalizer<4,>=2 in d:\\anaconda\\lib\\site-packages (from requests->huggingface-hub>=0.20.0->sentence-transformers) (3.4.0)\n",
      "Requirement already satisfied: idna<4,>=2.5 in d:\\anaconda\\lib\\site-packages (from requests->huggingface-hub>=0.20.0->sentence-transformers) (3.7)\n",
      "Requirement already satisfied: urllib3<3,>=1.21.1 in d:\\anaconda\\lib\\site-packages (from requests->huggingface-hub>=0.20.0->sentence-transformers) (2.2.2)\n",
      "Requirement already satisfied: certifi>=2017.4.17 in d:\\anaconda\\lib\\site-packages (from requests->huggingface-hub>=0.20.0->sentence-transformers) (2024.8.30)\n"
     ]
    },
    {
     "data": {
      "application/vnd.jupyter.widget-view+json": {
       "model_id": "a768e0d538ac4643b506651a3b80fb90",
       "version_major": 2,
       "version_minor": 0
      },
      "text/plain": [
       "modules.json:   0%|          | 0.00/349 [00:00<?, ?B/s]"
      ]
     },
     "metadata": {},
     "output_type": "display_data"
    },
    {
     "name": "stderr",
     "output_type": "stream",
     "text": [
      "D:\\Anaconda\\Lib\\site-packages\\huggingface_hub\\file_download.py:140: UserWarning: `huggingface_hub` cache-system uses symlinks by default to efficiently store duplicated files but your machine does not support them in C:\\Users\\P V Satya\\.cache\\huggingface\\hub\\models--sentence-transformers--all-MiniLM-L6-v2. Caching files will still work but in a degraded version that might require more space on your disk. This warning can be disabled by setting the `HF_HUB_DISABLE_SYMLINKS_WARNING` environment variable. For more details, see https://huggingface.co/docs/huggingface_hub/how-to-cache#limitations.\n",
      "To support symlinks on Windows, you either need to activate Developer Mode or to run Python as an administrator. In order to activate developer mode, see this article: https://docs.microsoft.com/en-us/windows/apps/get-started/enable-your-device-for-development\n",
      "  warnings.warn(message)\n"
     ]
    },
    {
     "data": {
      "application/vnd.jupyter.widget-view+json": {
       "model_id": "ac5d52fac3b8444b820a7f7e304d4808",
       "version_major": 2,
       "version_minor": 0
      },
      "text/plain": [
       "config_sentence_transformers.json:   0%|          | 0.00/116 [00:00<?, ?B/s]"
      ]
     },
     "metadata": {},
     "output_type": "display_data"
    },
    {
     "data": {
      "application/vnd.jupyter.widget-view+json": {
       "model_id": "6b11de95170a48c6a90f27e7341f81e9",
       "version_major": 2,
       "version_minor": 0
      },
      "text/plain": [
       "README.md:   0%|          | 0.00/10.7k [00:00<?, ?B/s]"
      ]
     },
     "metadata": {},
     "output_type": "display_data"
    },
    {
     "data": {
      "application/vnd.jupyter.widget-view+json": {
       "model_id": "55a3ad41a52b4931b960caafa464870a",
       "version_major": 2,
       "version_minor": 0
      },
      "text/plain": [
       "sentence_bert_config.json:   0%|          | 0.00/53.0 [00:00<?, ?B/s]"
      ]
     },
     "metadata": {},
     "output_type": "display_data"
    },
    {
     "data": {
      "application/vnd.jupyter.widget-view+json": {
       "model_id": "01c2fca889d64ebd99e49b203cf80c74",
       "version_major": 2,
       "version_minor": 0
      },
      "text/plain": [
       "config.json:   0%|          | 0.00/612 [00:00<?, ?B/s]"
      ]
     },
     "metadata": {},
     "output_type": "display_data"
    },
    {
     "data": {
      "application/vnd.jupyter.widget-view+json": {
       "model_id": "c198e90d5c5d4ab2b8889f07f44dbfaf",
       "version_major": 2,
       "version_minor": 0
      },
      "text/plain": [
       "model.safetensors:   0%|          | 0.00/90.9M [00:00<?, ?B/s]"
      ]
     },
     "metadata": {},
     "output_type": "display_data"
    },
    {
     "data": {
      "application/vnd.jupyter.widget-view+json": {
       "model_id": "d97e3b8c8060434a9a068af157a3e414",
       "version_major": 2,
       "version_minor": 0
      },
      "text/plain": [
       "tokenizer_config.json:   0%|          | 0.00/350 [00:00<?, ?B/s]"
      ]
     },
     "metadata": {},
     "output_type": "display_data"
    },
    {
     "data": {
      "application/vnd.jupyter.widget-view+json": {
       "model_id": "ba72ed0a28f54a1ca1abc4238c7e96ce",
       "version_major": 2,
       "version_minor": 0
      },
      "text/plain": [
       "vocab.txt:   0%|          | 0.00/232k [00:00<?, ?B/s]"
      ]
     },
     "metadata": {},
     "output_type": "display_data"
    },
    {
     "data": {
      "application/vnd.jupyter.widget-view+json": {
       "model_id": "1cdb46c30dfd4fe1833ad8bdcd9e4686",
       "version_major": 2,
       "version_minor": 0
      },
      "text/plain": [
       "tokenizer.json:   0%|          | 0.00/466k [00:00<?, ?B/s]"
      ]
     },
     "metadata": {},
     "output_type": "display_data"
    },
    {
     "data": {
      "application/vnd.jupyter.widget-view+json": {
       "model_id": "fb9f1d9cc8584bac9a2745ec141db006",
       "version_major": 2,
       "version_minor": 0
      },
      "text/plain": [
       "special_tokens_map.json:   0%|          | 0.00/112 [00:00<?, ?B/s]"
      ]
     },
     "metadata": {},
     "output_type": "display_data"
    },
    {
     "data": {
      "application/vnd.jupyter.widget-view+json": {
       "model_id": "1d268d6134f14ec999cb51a75aa2c032",
       "version_major": 2,
       "version_minor": 0
      },
      "text/plain": [
       "1_Pooling/config.json:   0%|          | 0.00/190 [00:00<?, ?B/s]"
      ]
     },
     "metadata": {},
     "output_type": "display_data"
    },
    {
     "data": {
      "application/vnd.jupyter.widget-view+json": {
       "model_id": "3cb3ed0997744eb7a6bfa3d50df6f834",
       "version_major": 2,
       "version_minor": 0
      },
      "text/plain": [
       "Batches:   0%|          | 0/1 [00:00<?, ?it/s]"
      ]
     },
     "metadata": {},
     "output_type": "display_data"
    }
   ],
   "source": [
    "# Install the required module\n",
    "!pip install sentence-transformers\n",
    "\n",
    "# Retry the code after the installation\n",
    "from sentence_transformers import SentenceTransformer\n",
    "import numpy as np\n",
    "\n",
    "# Load the model\n",
    "model = SentenceTransformer('all-MiniLM-L6-v2')\n",
    "\n",
    "def generate_embeddings(chunks):\n",
    "    embeddings = model.encode(chunks, show_progress_bar=True)\n",
    "    return embeddings\n",
    "\n",
    "# Generate embeddings for text_chunks\n",
    "embeddings = generate_embeddings(text_chunks)\n",
    "\n",
    "# Save embeddings to a file\n",
    "np.save(\"embeddings.npy\", embeddings)"
   ]
  },
  {
   "cell_type": "code",
   "execution_count": 63,
   "id": "ad3ec92f-5e2a-4166-b4e2-6ee2f8f315bc",
   "metadata": {},
   "outputs": [
    {
     "name": "stderr",
     "output_type": "stream",
     "text": [
      "ERROR: Could not find a version that satisfies the requirement faiss==1.5.3 (from versions: none)\n",
      "ERROR: No matching distribution found for faiss==1.5.3\n"
     ]
    }
   ],
   "source": [
    "!pip install faiss==1.5.3"
   ]
  },
  {
   "cell_type": "code",
   "execution_count": 64,
   "id": "6833230a-660f-405c-a18d-d5329b65f38f",
   "metadata": {},
   "outputs": [
    {
     "name": "stdout",
     "output_type": "stream",
     "text": [
      "Requirement already satisfied: faiss-cpu in d:\\anaconda\\lib\\site-packages (1.9.0.post1)\n",
      "Requirement already satisfied: numpy<3.0,>=1.25.0 in d:\\anaconda\\lib\\site-packages (from faiss-cpu) (2.2.0)\n",
      "Requirement already satisfied: packaging in d:\\anaconda\\lib\\site-packages (from faiss-cpu) (23.2)\n"
     ]
    }
   ],
   "source": [
    "# Install the required FAISS library\n",
    "!pip install faiss-cpu\n",
    "\n",
    "# Retry the code after installation\n",
    "import faiss\n",
    "import numpy as np\n",
    "\n",
    "def create_vector_database(embeddings):\n",
    "    dimension = embeddings.shape[1]  # Get vector size\n",
    "    index = faiss.IndexFlatL2(dimension)\n",
    "    index.add(embeddings)  # Add vectors to the index\n",
    "    return index\n",
    "\n",
    "embeddings = np.load(\"embeddings.npy\")\n",
    "vector_db = create_vector_database(embeddings)"
   ]
  },
  {
   "cell_type": "code",
   "execution_count": 65,
   "id": "b0526d6d-8585-44ad-b7db-2f0672cfa4cf",
   "metadata": {},
   "outputs": [],
   "source": [
    "def query_embedding(query):\n",
    "    return model.encode([query])[0]\n",
    "\n",
    "user_query = \"What is the unemployment rate for bachelor's degrees?\"\n",
    "query_vec = query_embedding(user_query)"
   ]
  },
  {
   "cell_type": "code",
   "execution_count": 67,
   "id": "16778764-9d07-4c7a-b26c-c2bb57aca727",
   "metadata": {},
   "outputs": [
    {
     "name": "stdout",
     "output_type": "stream",
     "text": [
      "Relevant Chunks: ['Example from Education What percent of the total class received grades of 72 or 77? Which grade showed the largest difference between males and females?', 'Table of Yearly U.S. GDP by Industry (in millions of dollars) Source: U.S. Bureau of Labor Statistics Year 2010 2011 2012 2013 2014 2015 All Industries 26093515 27535971 28663246 29601191 30895407 31397023 Manufacturing 4992521 5581942 5841608 5953299 6047477 5829554 Finance, Insurance, Real 4522451 4618678 4797313 5031881 5339678 5597018 Estate, Rental, Leasing Arts, Entertainment, Recreation, 964032 1015238 1076249 1120496 1189646 1283813 Accommodation, and Food Service Other 15614511 16320113 16948076 17495515 18318606 18686638', '• The chart below is called a pie chart. It shows what percent “of the pie” a particular category occupies out of the whole. • If total GDP in 2015 is the entire pie, then manufacturing makes up 19% of that pie and finance makes up 18%. Notice that visually speaking, since 19% and 18% are so close to each other in value, their respective slices of the pie are similarly sized. 2015 U.S. GDP (in millions of dollars) Manufacturing 19% Finance, insurance, real estate, rental, and leasing 18% Arts, entertainment, 59% recreation, accommodation, and food services Other 4%', '• The graph below is called a bar graph. • It shows each of the variables independent of each other, each with its own bar. • 2015 GDP for all industries was $31.397023; looking at the graph, the bar for all industries is just above $30. • One is still be able compare each variable with the other by comparing bars. 2015 GDP (in trillions of dollars) Other Arts, entertainment, recreation, accommodation, and food services Finance, insurance, real estate, rental, and leasing Manufacturing All industries 0 5 10 15 20 25 30 35 Dollars', 'Solution \\uf075 The chart indicates that 15% of the income is spent on transportation. We must answer the question: 15% of $31,000 is what? \\uf075 Writing as an equation and solving, we get \\uf075 n = 0.15 x 31,000 = 4650 \\uf075 So the family spends $4650 on transportation yearly.']\n"
     ]
    }
   ],
   "source": [
    "def retrieve_similar_chunks(vector_db, query_vec, k=5):\n",
    "    distances, indices = vector_db.search(np.array([query_vec]), k)\n",
    "    return indices\n",
    "\n",
    "indices = retrieve_similar_chunks(vector_db, query_vec)\n",
    "print(\"Relevant Chunks:\", [text_chunks[i] for i in indices[0]])"
   ]
  },
  {
   "cell_type": "code",
   "execution_count": 72,
   "id": "895ab879-dfce-43ee-9c17-6b43188e6ea0",
   "metadata": {},
   "outputs": [
    {
     "data": {
      "application/vnd.jupyter.widget-view+json": {
       "model_id": "de2d89b1dd1d41b9ac1f53003fd6f255",
       "version_major": 2,
       "version_minor": 0
      },
      "text/plain": [
       "config.json:   0%|          | 0.00/762 [00:00<?, ?B/s]"
      ]
     },
     "metadata": {},
     "output_type": "display_data"
    },
    {
     "name": "stderr",
     "output_type": "stream",
     "text": [
      "D:\\Anaconda\\Lib\\site-packages\\huggingface_hub\\file_download.py:140: UserWarning: `huggingface_hub` cache-system uses symlinks by default to efficiently store duplicated files but your machine does not support them in C:\\Users\\P V Satya\\.cache\\huggingface\\hub\\models--distilgpt2. Caching files will still work but in a degraded version that might require more space on your disk. This warning can be disabled by setting the `HF_HUB_DISABLE_SYMLINKS_WARNING` environment variable. For more details, see https://huggingface.co/docs/huggingface_hub/how-to-cache#limitations.\n",
      "To support symlinks on Windows, you either need to activate Developer Mode or to run Python as an administrator. In order to activate developer mode, see this article: https://docs.microsoft.com/en-us/windows/apps/get-started/enable-your-device-for-development\n",
      "  warnings.warn(message)\n"
     ]
    },
    {
     "data": {
      "application/vnd.jupyter.widget-view+json": {
       "model_id": "5b07c778b24643a6987c143dec7ae13b",
       "version_major": 2,
       "version_minor": 0
      },
      "text/plain": [
       "model.safetensors:   0%|          | 0.00/353M [00:00<?, ?B/s]"
      ]
     },
     "metadata": {},
     "output_type": "display_data"
    },
    {
     "data": {
      "application/vnd.jupyter.widget-view+json": {
       "model_id": "26e6ae184e744a3ca308d145c3f13ecd",
       "version_major": 2,
       "version_minor": 0
      },
      "text/plain": [
       "generation_config.json:   0%|          | 0.00/124 [00:00<?, ?B/s]"
      ]
     },
     "metadata": {},
     "output_type": "display_data"
    },
    {
     "data": {
      "application/vnd.jupyter.widget-view+json": {
       "model_id": "33a3235a8d1f4da78d1cbf3adbf77e9a",
       "version_major": 2,
       "version_minor": 0
      },
      "text/plain": [
       "tokenizer_config.json:   0%|          | 0.00/26.0 [00:00<?, ?B/s]"
      ]
     },
     "metadata": {},
     "output_type": "display_data"
    },
    {
     "data": {
      "application/vnd.jupyter.widget-view+json": {
       "model_id": "5d375fa7b5cf4dbc93384bd2b9b2b8c5",
       "version_major": 2,
       "version_minor": 0
      },
      "text/plain": [
       "vocab.json:   0%|          | 0.00/1.04M [00:00<?, ?B/s]"
      ]
     },
     "metadata": {},
     "output_type": "display_data"
    },
    {
     "data": {
      "application/vnd.jupyter.widget-view+json": {
       "model_id": "6674bad1bfe7458098915878c57a5ea2",
       "version_major": 2,
       "version_minor": 0
      },
      "text/plain": [
       "merges.txt:   0%|          | 0.00/456k [00:00<?, ?B/s]"
      ]
     },
     "metadata": {},
     "output_type": "display_data"
    },
    {
     "data": {
      "application/vnd.jupyter.widget-view+json": {
       "model_id": "2c2a32aae89345699e48d483ebd06612",
       "version_major": 2,
       "version_minor": 0
      },
      "text/plain": [
       "tokenizer.json:   0%|          | 0.00/1.36M [00:00<?, ?B/s]"
      ]
     },
     "metadata": {},
     "output_type": "display_data"
    },
    {
     "name": "stderr",
     "output_type": "stream",
     "text": [
      "Device set to use cpu\n",
      "Setting `pad_token_id` to `eos_token_id`:50256 for open-end generation.\n"
     ]
    },
    {
     "data": {
      "text/plain": [
       "\"Context: Example from Education What percent of the total class received grades of 72 or 77? Which grade showed the largest difference between males and females? Table of Yearly U.S. GDP by Industry (in millions of dollars) Source: U.S. Bureau of Labor Statistics Year 2010 2011 2012 2013 2014 2015 All Industries 26093515 27535971 28663246 29601191 30895407 31397023 Manufacturing 4992521 5581942 5841608 5953299 6047477 5829554 Finance, Insurance, Real 4522451 4618678 4797313 5031881 5339678 5597018 Estate, Rental, Leasing Arts, Entertainment, Recreation, 964032 1015238 1076249 1120496 1189646 1283813 Accommodation, and Food Service Other 15614511 16320113 16948076 17495515 18318606 18686638 • The chart below is called a pie chart. It shows what percent “of the pie” a particular category occupies out of the whole. • If total GDP in 2015 is the entire pie, then manufacturing makes up 19% of that pie and finance makes up 18%. Notice that visually speaking, since 19% and 18% are so close to each other in value, their respective slices of the pie are similarly sized. 2015 U.S. GDP (in millions of dollars) Manufacturing 19% Finance, insurance, real estate, rental, and leasing 18% Arts, entertainment, 59% recreation, accommodation, and food services Other 4% • The graph below is called a bar graph. • It shows each of the variables independent of each other, each with its own bar. • 2015 GDP for all industries was $31.397023; looking at the graph, the bar for all industries is just above $30. • One is still be able compare each variable with the other by comparing bars. 2015 GDP (in trillions of dollars) Other Arts, entertainment, recreation, accommodation, and food services Finance, insurance, real estate, rental, and leasing Manufacturing All industries 0 5 10 15 20 25 30 35 Dollars Solution \\uf075 The chart indicates that 15% of the income is spent on transportation. We must answer the question: 15% of $31,000 is what? \\uf075 Writing as an equation and solving, we get \\uf075 n = 0.15 x 31,000 = 4650 \\uf075 So the family spends $4650 on transportation yearly.\\nQuestion: What is the unemployment rate for bachelor's degrees?\\nAnswer: The unemployment rate for bachelor's degrees is 11%, which is higher than what it is for bachelor's. While the unemployment rate for degrees is 13%, which is higher than what it is for bachelor's, the unemployment rates for bachelor's degrees are only\""
      ]
     },
     "execution_count": 72,
     "metadata": {},
     "output_type": "execute_result"
    }
   ],
   "source": [
    "from transformers import pipeline\n",
    "\n",
    "# Specify the correct Hugging Face model name\n",
    "generator = pipeline(\"text-generation\", model=\"distilgpt2\")\n",
    "\n",
    "def generate_response(context, query):\n",
    "    prompt = f\"Context: {context}\\nQuestion: {query}\\nAnswer:\"\n",
    "    return generator(prompt, max_new_tokens=50, num_return_sequences=1)[0]['generated_text']\n",
    "\n",
    "retrieved_chunks = \" \".join([text_chunks[i] for i in indices[0]])\n",
    "response = generate_response(retrieved_chunks, user_query)\n",
    "response"
   ]
  },
  {
   "cell_type": "code",
   "execution_count": 77,
   "id": "713b9483-5d96-43a0-af11-7524658da11f",
   "metadata": {},
   "outputs": [
    {
     "name": "stdout",
     "output_type": "stream",
     "text": [
      "Requirement already satisfied: gradio==5.1.0 in d:\\anaconda\\lib\\site-packages (5.1.0)\n",
      "Requirement already satisfied: aiofiles<24.0,>=22.0 in d:\\anaconda\\lib\\site-packages (from gradio==5.1.0) (23.2.1)\n",
      "Requirement already satisfied: anyio<5.0,>=3.0 in d:\\anaconda\\lib\\site-packages (from gradio==5.1.0) (4.2.0)\n",
      "Requirement already satisfied: fastapi<1.0 in d:\\anaconda\\lib\\site-packages (from gradio==5.1.0) (0.115.6)\n",
      "Requirement already satisfied: ffmpy in d:\\anaconda\\lib\\site-packages (from gradio==5.1.0) (0.4.0)\n",
      "Requirement already satisfied: gradio-client==1.4.0 in d:\\anaconda\\lib\\site-packages (from gradio==5.1.0) (1.4.0)\n",
      "Requirement already satisfied: httpx>=0.24.1 in d:\\anaconda\\lib\\site-packages (from gradio==5.1.0) (0.27.0)\n",
      "Requirement already satisfied: huggingface-hub>=0.25.1 in d:\\anaconda\\lib\\site-packages (from gradio==5.1.0) (0.27.0)\n",
      "Requirement already satisfied: jinja2<4.0 in d:\\anaconda\\lib\\site-packages (from gradio==5.1.0) (3.1.4)\n",
      "Requirement already satisfied: markupsafe~=2.0 in d:\\anaconda\\lib\\site-packages (from gradio==5.1.0) (2.1.3)\n",
      "Requirement already satisfied: numpy<3.0,>=1.0 in d:\\anaconda\\lib\\site-packages (from gradio==5.1.0) (2.2.0)\n",
      "Requirement already satisfied: orjson~=3.0 in d:\\anaconda\\lib\\site-packages (from gradio==5.1.0) (3.10.12)\n",
      "Requirement already satisfied: packaging in d:\\anaconda\\lib\\site-packages (from gradio==5.1.0) (23.2)\n",
      "Requirement already satisfied: pandas<3.0,>=1.0 in d:\\anaconda\\lib\\site-packages (from gradio==5.1.0) (2.2.2)\n",
      "Requirement already satisfied: pillow<11.0,>=8.0 in d:\\anaconda\\lib\\site-packages (from gradio==5.1.0) (10.3.0)\n",
      "Requirement already satisfied: pydantic>=2.0 in d:\\anaconda\\lib\\site-packages (from gradio==5.1.0) (2.8.2)\n",
      "Requirement already satisfied: pydub in d:\\anaconda\\lib\\site-packages (from gradio==5.1.0) (0.25.1)\n",
      "Requirement already satisfied: python-multipart>=0.0.9 in d:\\anaconda\\lib\\site-packages (from gradio==5.1.0) (0.0.19)\n",
      "Requirement already satisfied: pyyaml<7.0,>=5.0 in d:\\anaconda\\lib\\site-packages (from gradio==5.1.0) (6.0.1)\n",
      "Requirement already satisfied: ruff>=0.2.2 in d:\\anaconda\\lib\\site-packages (from gradio==5.1.0) (0.8.3)\n",
      "Requirement already satisfied: semantic-version~=2.0 in d:\\anaconda\\lib\\site-packages (from gradio==5.1.0) (2.10.0)\n",
      "Requirement already satisfied: tomlkit==0.12.0 in d:\\anaconda\\lib\\site-packages (from gradio==5.1.0) (0.12.0)\n",
      "Requirement already satisfied: typer<1.0,>=0.12 in d:\\anaconda\\lib\\site-packages (from gradio==5.1.0) (0.15.1)\n",
      "Requirement already satisfied: typing-extensions~=4.0 in d:\\anaconda\\lib\\site-packages (from gradio==5.1.0) (4.11.0)\n",
      "Requirement already satisfied: uvicorn>=0.14.0 in d:\\anaconda\\lib\\site-packages (from gradio==5.1.0) (0.34.0)\n",
      "Requirement already satisfied: fsspec in d:\\anaconda\\lib\\site-packages (from gradio-client==1.4.0->gradio==5.1.0) (2024.3.1)\n",
      "Requirement already satisfied: websockets<13.0,>=10.0 in d:\\anaconda\\lib\\site-packages (from gradio-client==1.4.0->gradio==5.1.0) (12.0)\n",
      "Requirement already satisfied: idna>=2.8 in d:\\anaconda\\lib\\site-packages (from anyio<5.0,>=3.0->gradio==5.1.0) (3.7)\n",
      "Requirement already satisfied: sniffio>=1.1 in d:\\anaconda\\lib\\site-packages (from anyio<5.0,>=3.0->gradio==5.1.0) (1.3.0)\n",
      "Requirement already satisfied: starlette<0.42.0,>=0.40.0 in d:\\anaconda\\lib\\site-packages (from fastapi<1.0->gradio==5.1.0) (0.41.3)\n",
      "Requirement already satisfied: certifi in d:\\anaconda\\lib\\site-packages (from httpx>=0.24.1->gradio==5.1.0) (2024.8.30)\n",
      "Requirement already satisfied: httpcore==1.* in d:\\anaconda\\lib\\site-packages (from httpx>=0.24.1->gradio==5.1.0) (1.0.2)\n",
      "Requirement already satisfied: h11<0.15,>=0.13 in d:\\anaconda\\lib\\site-packages (from httpcore==1.*->httpx>=0.24.1->gradio==5.1.0) (0.14.0)\n",
      "Requirement already satisfied: filelock in d:\\anaconda\\lib\\site-packages (from huggingface-hub>=0.25.1->gradio==5.1.0) (3.13.1)\n",
      "Requirement already satisfied: requests in d:\\anaconda\\lib\\site-packages (from huggingface-hub>=0.25.1->gradio==5.1.0) (2.32.2)\n",
      "Requirement already satisfied: tqdm>=4.42.1 in d:\\anaconda\\lib\\site-packages (from huggingface-hub>=0.25.1->gradio==5.1.0) (4.66.4)\n",
      "Requirement already satisfied: python-dateutil>=2.8.2 in d:\\anaconda\\lib\\site-packages (from pandas<3.0,>=1.0->gradio==5.1.0) (2.9.0.post0)\n",
      "Requirement already satisfied: pytz>=2020.1 in d:\\anaconda\\lib\\site-packages (from pandas<3.0,>=1.0->gradio==5.1.0) (2024.2)\n",
      "Requirement already satisfied: tzdata>=2022.7 in d:\\anaconda\\lib\\site-packages (from pandas<3.0,>=1.0->gradio==5.1.0) (2024.2)\n",
      "Requirement already satisfied: annotated-types>=0.4.0 in d:\\anaconda\\lib\\site-packages (from pydantic>=2.0->gradio==5.1.0) (0.6.0)\n",
      "Requirement already satisfied: pydantic-core==2.20.1 in d:\\anaconda\\lib\\site-packages (from pydantic>=2.0->gradio==5.1.0) (2.20.1)\n",
      "Requirement already satisfied: click>=8.0.0 in d:\\anaconda\\lib\\site-packages (from typer<1.0,>=0.12->gradio==5.1.0) (8.1.7)\n",
      "Requirement already satisfied: shellingham>=1.3.0 in d:\\anaconda\\lib\\site-packages (from typer<1.0,>=0.12->gradio==5.1.0) (1.5.0)\n",
      "Requirement already satisfied: rich>=10.11.0 in d:\\anaconda\\lib\\site-packages (from typer<1.0,>=0.12->gradio==5.1.0) (13.3.5)\n",
      "Requirement already satisfied: colorama in d:\\anaconda\\lib\\site-packages (from click>=8.0.0->typer<1.0,>=0.12->gradio==5.1.0) (0.4.6)\n",
      "Requirement already satisfied: six>=1.5 in d:\\anaconda\\lib\\site-packages (from python-dateutil>=2.8.2->pandas<3.0,>=1.0->gradio==5.1.0) (1.17.0)\n",
      "Requirement already satisfied: markdown-it-py<3.0.0,>=2.2.0 in d:\\anaconda\\lib\\site-packages (from rich>=10.11.0->typer<1.0,>=0.12->gradio==5.1.0) (2.2.0)\n",
      "Requirement already satisfied: pygments<3.0.0,>=2.13.0 in d:\\anaconda\\lib\\site-packages (from rich>=10.11.0->typer<1.0,>=0.12->gradio==5.1.0) (2.15.1)\n",
      "Requirement already satisfied: charset-normalizer<4,>=2 in d:\\anaconda\\lib\\site-packages (from requests->huggingface-hub>=0.25.1->gradio==5.1.0) (3.4.0)\n",
      "Requirement already satisfied: urllib3<3,>=1.21.1 in d:\\anaconda\\lib\\site-packages (from requests->huggingface-hub>=0.25.1->gradio==5.1.0) (2.2.2)\n",
      "Requirement already satisfied: mdurl~=0.1 in d:\\anaconda\\lib\\site-packages (from markdown-it-py<3.0.0,>=2.2.0->rich>=10.11.0->typer<1.0,>=0.12->gradio==5.1.0) (0.1.0)\n"
     ]
    }
   ],
   "source": [
    "!pip install gradio==5.1.0"
   ]
  },
  {
   "cell_type": "code",
   "execution_count": 78,
   "id": "e55e345e-c187-4710-9d10-60f6f2538e91",
   "metadata": {},
   "outputs": [
    {
     "name": "stdout",
     "output_type": "stream",
     "text": [
      "* Running on local URL:  http://127.0.0.1:7861\n",
      "\n",
      "To create a public link, set `share=True` in `launch()`.\n"
     ]
    },
    {
     "data": {
      "text/html": [
       "<div><iframe src=\"http://127.0.0.1:7861/\" width=\"100%\" height=\"500\" allow=\"autoplay; camera; microphone; clipboard-read; clipboard-write;\" frameborder=\"0\" allowfullscreen></iframe></div>"
      ],
      "text/plain": [
       "<IPython.core.display.HTML object>"
      ]
     },
     "metadata": {},
     "output_type": "display_data"
    },
    {
     "data": {
      "text/plain": []
     },
     "execution_count": 78,
     "metadata": {},
     "output_type": "execute_result"
    }
   ],
   "source": [
    "import gradio as gr\n",
    "\n",
    "def answer_query(query):\n",
    "    query_vec = query_embedding(query)\n",
    "    indices = retrieve_similar_chunks(vector_db, query_vec)\n",
    "    retrieved_chunks = \" \".join([text_chunks[i] for i in indices[0]])\n",
    "    return generate_response(retrieved_chunks, query)\n",
    "\n",
    "interface = gr.Interface(fn=answer_query, inputs=\"text\", outputs=\"text\")\n",
    "interface.launch()\n"
   ]
  },
  {
   "cell_type": "code",
   "execution_count": 109,
   "id": "807bbacf-db56-4a2b-80ba-db4f5f252464",
   "metadata": {},
   "outputs": [
    {
     "name": "stdout",
     "output_type": "stream",
     "text": [
      "* Running on local URL:  http://127.0.0.1:7862\n",
      "* Running on public URL: https://0e3fcb4be5c280dde3.gradio.live\n",
      "\n",
      "This share link expires in 72 hours. For free permanent hosting and GPU upgrades, run `gradio deploy` from the terminal in the working directory to deploy to Hugging Face Spaces (https://huggingface.co/spaces)\n"
     ]
    },
    {
     "data": {
      "text/html": [
       "<div><iframe src=\"https://0e3fcb4be5c280dde3.gradio.live\" width=\"100%\" height=\"500\" allow=\"autoplay; camera; microphone; clipboard-read; clipboard-write;\" frameborder=\"0\" allowfullscreen></iframe></div>"
      ],
      "text/plain": [
       "<IPython.core.display.HTML object>"
      ]
     },
     "metadata": {},
     "output_type": "display_data"
    },
    {
     "data": {
      "text/plain": []
     },
     "execution_count": 109,
     "metadata": {},
     "output_type": "execute_result"
    }
   ],
   "source": [
    "import gradio as gr\n",
    "\n",
    "def answer_query(query):\n",
    "    query_vec = query_embedding(query)\n",
    "    indices = retrieve_similar_chunks(vector_db, query_vec)\n",
    "    retrieved_chunks = \" \".join([text_chunks[i] for i in indices[0]])\n",
    "    return generate_response(retrieved_chunks, query)\n",
    "\n",
    "interface = gr.Interface(fn=answer_query, inputs=\"text\", outputs=\"text\")\n",
    "interface.launch(share=True)"
   ]
  },
  {
   "cell_type": "code",
   "execution_count": null,
   "id": "ace3938e-8af6-4b13-8612-43e038850582",
   "metadata": {},
   "outputs": [],
   "source": []
  }
 ],
 "metadata": {
  "kernelspec": {
   "display_name": "Python 3 (ipykernel)",
   "language": "python",
   "name": "python3"
  },
  "language_info": {
   "codemirror_mode": {
    "name": "ipython",
    "version": 3
   },
   "file_extension": ".py",
   "mimetype": "text/x-python",
   "name": "python",
   "nbconvert_exporter": "python",
   "pygments_lexer": "ipython3",
   "version": "3.12.4"
  }
 },
 "nbformat": 4,
 "nbformat_minor": 5
}
