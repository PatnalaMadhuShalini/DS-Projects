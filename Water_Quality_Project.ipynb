{
  "nbformat": 4,
  "nbformat_minor": 0,
  "metadata": {
    "colab": {
      "provenance": []
    },
    "kernelspec": {
      "name": "python3",
      "display_name": "Python 3"
    },
    "language_info": {
      "name": "python"
    }
  },
  "cells": [
    {
      "cell_type": "markdown",
      "source": [
        "Dataset is downloaded from Kaggle"
      ],
      "metadata": {
        "id": "3H2-WiVGlHFA"
      }
    },
    {
      "cell_type": "code",
      "execution_count": null,
      "metadata": {
        "colab": {
          "base_uri": "https://localhost:8080/"
        },
        "id": "TkMB-hIU1FxQ",
        "outputId": "8ce598fa-67dc-4468-cba2-5f4696f476b3"
      },
      "outputs": [
        {
          "output_type": "stream",
          "name": "stdout",
          "text": [
            "Drive already mounted at /content/drive; to attempt to forcibly remount, call drive.mount(\"/content/drive\", force_remount=True).\n"
          ]
        }
      ],
      "source": [
        "from google.colab import drive\n",
        "drive.mount('/content/drive')"
      ]
    },
    {
      "cell_type": "code",
      "source": [
        "path='/content/drive/MyDrive/Water Quality/ground_water_quality_2020_post.csv' #path copied"
      ],
      "metadata": {
        "id": "7k8fp2gM1d7c"
      },
      "execution_count": null,
      "outputs": []
    },
    {
      "cell_type": "code",
      "source": [
        "import pandas as pd"
      ],
      "metadata": {
        "id": "Uk3dR99Q1uX1"
      },
      "execution_count": null,
      "outputs": []
    },
    {
      "cell_type": "code",
      "source": [
        "df=pd.read_csv(path)\n",
        "df #dataset loaded"
      ],
      "metadata": {
        "colab": {
          "base_uri": "https://localhost:8080/",
          "height": 808
        },
        "id": "eNl-p7Zs1zbC",
        "outputId": "dab25176-89a2-4a82-af73-1117682d7c9d"
      },
      "execution_count": null,
      "outputs": [
        {
          "output_type": "execute_result",
          "data": {
            "text/plain": [
              "     sno  district        mandal       village    lat_gis   long_gis   gwl  \\\n",
              "0      1  ADILABAD      Adilabad      Adilabad  19.668300  78.524700  7.10   \n",
              "1      2  ADILABAD   Bazarhatnur   Bazarhatnur  19.458888  78.350833  3.35   \n",
              "2      3  ADILABAD   Gudihatnoor   Gudihatnoor  19.525555  78.512222  5.05   \n",
              "3      4  ADILABAD       Jainath       Jainath  19.730555  78.640000  2.10   \n",
              "4      5  ADILABAD       Narnoor       Narnoor  19.495665  78.852654  1.38   \n",
              "..   ...       ...           ...           ...        ...        ...   ...   \n",
              "363  375   YADADRI  S.Narayanpur  S.Narayanpur  17.144719  78.860010  9.90   \n",
              "364  376   YADADRI   Thurkapally    Gandamalla  17.733101  78.853831  5.74   \n",
              "365  377   YADADRI     Valigonda    T. somaram  17.399953  78.952290  1.72   \n",
              "366  378   YADADRI     Valigonda   Vemulakonda  17.347782  79.143433  1.65   \n",
              "367  379   YADADRI       Y.Gutta    Mallapuram  17.633555  78.911638  4.92   \n",
              "\n",
              "                season  Unnamed: 8    pH  ...     SO4      Na      K     Ca  \\\n",
              "0    Post-monsoon 2020         NaN  8.01  ...   33.00  171.00   9.00   24.0   \n",
              "1    Post-monsoon 2020         NaN  7.77  ...   13.50   70.00   3.00   16.0   \n",
              "2    Post-monsoon 2020         NaN  8.21  ...   10.50   65.00   3.00   16.0   \n",
              "3    Post-monsoon 2020         NaN   8.3  ...    7.25   31.00   1.00   16.0   \n",
              "4    Post-monsoon 2020         NaN  7.67  ...   14.50  129.00   2.00   32.0   \n",
              "..                 ...         ...   ...  ...     ...     ...    ...    ...   \n",
              "363  Post-monsoon 2020         NaN   7.8  ...   33.00  169.30   2.60  160.0   \n",
              "364  Post-monsoon 2020         NaN  8.26  ...   33.00  211.30  43.30   48.0   \n",
              "365  Post-monsoon 2020         NaN  8.77  ...   15.00   60.44   3.04   80.0   \n",
              "366  Post-monsoon 2020         NaN  7.76  ...  109.00  465.20   3.30  400.0   \n",
              "367  Post-monsoon 2020         NaN  8.13  ...   34.00  170.70   5.60  152.0   \n",
              "\n",
              "          Mg          T.H       SAR  Classification  RSC  meq  / L  \\\n",
              "0     72.930   359.876645  3.919146            C3S1       0.602467   \n",
              "1     53.482   259.909539  1.887814            C3S1      -0.198191   \n",
              "2     48.620   239.917763  1.824544            C2S1       0.001645   \n",
              "3     29.172   159.950658  1.065714            C2S1      -0.199013   \n",
              "4      5.000    82.878289  6.160862            C2S1       3.742434   \n",
              "..       ...          ...       ...             ...            ...   \n",
              "363   97.240   799.835526  2.602728            C4S1      -8.596711   \n",
              "364  116.688   599.802632  3.751176            C3S1      -3.396053   \n",
              "365   53.482   419.909539  1.282386            C3S1      -4.398191   \n",
              "366   92.378  1379.843750  5.444988            C4S1     -21.996875   \n",
              "367   97.240   779.835526  2.657689            C4S1     -11.596711   \n",
              "\n",
              "     Classification.1  \n",
              "0                P.S.  \n",
              "1                P.S.  \n",
              "2                P.S.  \n",
              "3                P.S.  \n",
              "4                U.S.  \n",
              "..                ...  \n",
              "363              P.S.  \n",
              "364              P.S.  \n",
              "365              P.S.  \n",
              "366              P.S.  \n",
              "367              P.S.  \n",
              "\n",
              "[368 rows x 27 columns]"
            ],
            "text/html": [
              "\n",
              "  <div id=\"df-acbc92fe-b484-4b84-be3e-34b3796f1b6f\" class=\"colab-df-container\">\n",
              "    <div>\n",
              "<style scoped>\n",
              "    .dataframe tbody tr th:only-of-type {\n",
              "        vertical-align: middle;\n",
              "    }\n",
              "\n",
              "    .dataframe tbody tr th {\n",
              "        vertical-align: top;\n",
              "    }\n",
              "\n",
              "    .dataframe thead th {\n",
              "        text-align: right;\n",
              "    }\n",
              "</style>\n",
              "<table border=\"1\" class=\"dataframe\">\n",
              "  <thead>\n",
              "    <tr style=\"text-align: right;\">\n",
              "      <th></th>\n",
              "      <th>sno</th>\n",
              "      <th>district</th>\n",
              "      <th>mandal</th>\n",
              "      <th>village</th>\n",
              "      <th>lat_gis</th>\n",
              "      <th>long_gis</th>\n",
              "      <th>gwl</th>\n",
              "      <th>season</th>\n",
              "      <th>Unnamed: 8</th>\n",
              "      <th>pH</th>\n",
              "      <th>...</th>\n",
              "      <th>SO4</th>\n",
              "      <th>Na</th>\n",
              "      <th>K</th>\n",
              "      <th>Ca</th>\n",
              "      <th>Mg</th>\n",
              "      <th>T.H</th>\n",
              "      <th>SAR</th>\n",
              "      <th>Classification</th>\n",
              "      <th>RSC  meq  / L</th>\n",
              "      <th>Classification.1</th>\n",
              "    </tr>\n",
              "  </thead>\n",
              "  <tbody>\n",
              "    <tr>\n",
              "      <th>0</th>\n",
              "      <td>1</td>\n",
              "      <td>ADILABAD</td>\n",
              "      <td>Adilabad</td>\n",
              "      <td>Adilabad</td>\n",
              "      <td>19.668300</td>\n",
              "      <td>78.524700</td>\n",
              "      <td>7.10</td>\n",
              "      <td>Post-monsoon 2020</td>\n",
              "      <td>NaN</td>\n",
              "      <td>8.01</td>\n",
              "      <td>...</td>\n",
              "      <td>33.00</td>\n",
              "      <td>171.00</td>\n",
              "      <td>9.00</td>\n",
              "      <td>24.0</td>\n",
              "      <td>72.930</td>\n",
              "      <td>359.876645</td>\n",
              "      <td>3.919146</td>\n",
              "      <td>C3S1</td>\n",
              "      <td>0.602467</td>\n",
              "      <td>P.S.</td>\n",
              "    </tr>\n",
              "    <tr>\n",
              "      <th>1</th>\n",
              "      <td>2</td>\n",
              "      <td>ADILABAD</td>\n",
              "      <td>Bazarhatnur</td>\n",
              "      <td>Bazarhatnur</td>\n",
              "      <td>19.458888</td>\n",
              "      <td>78.350833</td>\n",
              "      <td>3.35</td>\n",
              "      <td>Post-monsoon 2020</td>\n",
              "      <td>NaN</td>\n",
              "      <td>7.77</td>\n",
              "      <td>...</td>\n",
              "      <td>13.50</td>\n",
              "      <td>70.00</td>\n",
              "      <td>3.00</td>\n",
              "      <td>16.0</td>\n",
              "      <td>53.482</td>\n",
              "      <td>259.909539</td>\n",
              "      <td>1.887814</td>\n",
              "      <td>C3S1</td>\n",
              "      <td>-0.198191</td>\n",
              "      <td>P.S.</td>\n",
              "    </tr>\n",
              "    <tr>\n",
              "      <th>2</th>\n",
              "      <td>3</td>\n",
              "      <td>ADILABAD</td>\n",
              "      <td>Gudihatnoor</td>\n",
              "      <td>Gudihatnoor</td>\n",
              "      <td>19.525555</td>\n",
              "      <td>78.512222</td>\n",
              "      <td>5.05</td>\n",
              "      <td>Post-monsoon 2020</td>\n",
              "      <td>NaN</td>\n",
              "      <td>8.21</td>\n",
              "      <td>...</td>\n",
              "      <td>10.50</td>\n",
              "      <td>65.00</td>\n",
              "      <td>3.00</td>\n",
              "      <td>16.0</td>\n",
              "      <td>48.620</td>\n",
              "      <td>239.917763</td>\n",
              "      <td>1.824544</td>\n",
              "      <td>C2S1</td>\n",
              "      <td>0.001645</td>\n",
              "      <td>P.S.</td>\n",
              "    </tr>\n",
              "    <tr>\n",
              "      <th>3</th>\n",
              "      <td>4</td>\n",
              "      <td>ADILABAD</td>\n",
              "      <td>Jainath</td>\n",
              "      <td>Jainath</td>\n",
              "      <td>19.730555</td>\n",
              "      <td>78.640000</td>\n",
              "      <td>2.10</td>\n",
              "      <td>Post-monsoon 2020</td>\n",
              "      <td>NaN</td>\n",
              "      <td>8.3</td>\n",
              "      <td>...</td>\n",
              "      <td>7.25</td>\n",
              "      <td>31.00</td>\n",
              "      <td>1.00</td>\n",
              "      <td>16.0</td>\n",
              "      <td>29.172</td>\n",
              "      <td>159.950658</td>\n",
              "      <td>1.065714</td>\n",
              "      <td>C2S1</td>\n",
              "      <td>-0.199013</td>\n",
              "      <td>P.S.</td>\n",
              "    </tr>\n",
              "    <tr>\n",
              "      <th>4</th>\n",
              "      <td>5</td>\n",
              "      <td>ADILABAD</td>\n",
              "      <td>Narnoor</td>\n",
              "      <td>Narnoor</td>\n",
              "      <td>19.495665</td>\n",
              "      <td>78.852654</td>\n",
              "      <td>1.38</td>\n",
              "      <td>Post-monsoon 2020</td>\n",
              "      <td>NaN</td>\n",
              "      <td>7.67</td>\n",
              "      <td>...</td>\n",
              "      <td>14.50</td>\n",
              "      <td>129.00</td>\n",
              "      <td>2.00</td>\n",
              "      <td>32.0</td>\n",
              "      <td>5.000</td>\n",
              "      <td>82.878289</td>\n",
              "      <td>6.160862</td>\n",
              "      <td>C2S1</td>\n",
              "      <td>3.742434</td>\n",
              "      <td>U.S.</td>\n",
              "    </tr>\n",
              "    <tr>\n",
              "      <th>...</th>\n",
              "      <td>...</td>\n",
              "      <td>...</td>\n",
              "      <td>...</td>\n",
              "      <td>...</td>\n",
              "      <td>...</td>\n",
              "      <td>...</td>\n",
              "      <td>...</td>\n",
              "      <td>...</td>\n",
              "      <td>...</td>\n",
              "      <td>...</td>\n",
              "      <td>...</td>\n",
              "      <td>...</td>\n",
              "      <td>...</td>\n",
              "      <td>...</td>\n",
              "      <td>...</td>\n",
              "      <td>...</td>\n",
              "      <td>...</td>\n",
              "      <td>...</td>\n",
              "      <td>...</td>\n",
              "      <td>...</td>\n",
              "      <td>...</td>\n",
              "    </tr>\n",
              "    <tr>\n",
              "      <th>363</th>\n",
              "      <td>375</td>\n",
              "      <td>YADADRI</td>\n",
              "      <td>S.Narayanpur</td>\n",
              "      <td>S.Narayanpur</td>\n",
              "      <td>17.144719</td>\n",
              "      <td>78.860010</td>\n",
              "      <td>9.90</td>\n",
              "      <td>Post-monsoon 2020</td>\n",
              "      <td>NaN</td>\n",
              "      <td>7.8</td>\n",
              "      <td>...</td>\n",
              "      <td>33.00</td>\n",
              "      <td>169.30</td>\n",
              "      <td>2.60</td>\n",
              "      <td>160.0</td>\n",
              "      <td>97.240</td>\n",
              "      <td>799.835526</td>\n",
              "      <td>2.602728</td>\n",
              "      <td>C4S1</td>\n",
              "      <td>-8.596711</td>\n",
              "      <td>P.S.</td>\n",
              "    </tr>\n",
              "    <tr>\n",
              "      <th>364</th>\n",
              "      <td>376</td>\n",
              "      <td>YADADRI</td>\n",
              "      <td>Thurkapally</td>\n",
              "      <td>Gandamalla</td>\n",
              "      <td>17.733101</td>\n",
              "      <td>78.853831</td>\n",
              "      <td>5.74</td>\n",
              "      <td>Post-monsoon 2020</td>\n",
              "      <td>NaN</td>\n",
              "      <td>8.26</td>\n",
              "      <td>...</td>\n",
              "      <td>33.00</td>\n",
              "      <td>211.30</td>\n",
              "      <td>43.30</td>\n",
              "      <td>48.0</td>\n",
              "      <td>116.688</td>\n",
              "      <td>599.802632</td>\n",
              "      <td>3.751176</td>\n",
              "      <td>C3S1</td>\n",
              "      <td>-3.396053</td>\n",
              "      <td>P.S.</td>\n",
              "    </tr>\n",
              "    <tr>\n",
              "      <th>365</th>\n",
              "      <td>377</td>\n",
              "      <td>YADADRI</td>\n",
              "      <td>Valigonda</td>\n",
              "      <td>T. somaram</td>\n",
              "      <td>17.399953</td>\n",
              "      <td>78.952290</td>\n",
              "      <td>1.72</td>\n",
              "      <td>Post-monsoon 2020</td>\n",
              "      <td>NaN</td>\n",
              "      <td>8.77</td>\n",
              "      <td>...</td>\n",
              "      <td>15.00</td>\n",
              "      <td>60.44</td>\n",
              "      <td>3.04</td>\n",
              "      <td>80.0</td>\n",
              "      <td>53.482</td>\n",
              "      <td>419.909539</td>\n",
              "      <td>1.282386</td>\n",
              "      <td>C3S1</td>\n",
              "      <td>-4.398191</td>\n",
              "      <td>P.S.</td>\n",
              "    </tr>\n",
              "    <tr>\n",
              "      <th>366</th>\n",
              "      <td>378</td>\n",
              "      <td>YADADRI</td>\n",
              "      <td>Valigonda</td>\n",
              "      <td>Vemulakonda</td>\n",
              "      <td>17.347782</td>\n",
              "      <td>79.143433</td>\n",
              "      <td>1.65</td>\n",
              "      <td>Post-monsoon 2020</td>\n",
              "      <td>NaN</td>\n",
              "      <td>7.76</td>\n",
              "      <td>...</td>\n",
              "      <td>109.00</td>\n",
              "      <td>465.20</td>\n",
              "      <td>3.30</td>\n",
              "      <td>400.0</td>\n",
              "      <td>92.378</td>\n",
              "      <td>1379.843750</td>\n",
              "      <td>5.444988</td>\n",
              "      <td>C4S1</td>\n",
              "      <td>-21.996875</td>\n",
              "      <td>P.S.</td>\n",
              "    </tr>\n",
              "    <tr>\n",
              "      <th>367</th>\n",
              "      <td>379</td>\n",
              "      <td>YADADRI</td>\n",
              "      <td>Y.Gutta</td>\n",
              "      <td>Mallapuram</td>\n",
              "      <td>17.633555</td>\n",
              "      <td>78.911638</td>\n",
              "      <td>4.92</td>\n",
              "      <td>Post-monsoon 2020</td>\n",
              "      <td>NaN</td>\n",
              "      <td>8.13</td>\n",
              "      <td>...</td>\n",
              "      <td>34.00</td>\n",
              "      <td>170.70</td>\n",
              "      <td>5.60</td>\n",
              "      <td>152.0</td>\n",
              "      <td>97.240</td>\n",
              "      <td>779.835526</td>\n",
              "      <td>2.657689</td>\n",
              "      <td>C4S1</td>\n",
              "      <td>-11.596711</td>\n",
              "      <td>P.S.</td>\n",
              "    </tr>\n",
              "  </tbody>\n",
              "</table>\n",
              "<p>368 rows × 27 columns</p>\n",
              "</div>\n",
              "    <div class=\"colab-df-buttons\">\n",
              "\n",
              "  <div class=\"colab-df-container\">\n",
              "    <button class=\"colab-df-convert\" onclick=\"convertToInteractive('df-acbc92fe-b484-4b84-be3e-34b3796f1b6f')\"\n",
              "            title=\"Convert this dataframe to an interactive table.\"\n",
              "            style=\"display:none;\">\n",
              "\n",
              "  <svg xmlns=\"http://www.w3.org/2000/svg\" height=\"24px\" viewBox=\"0 -960 960 960\">\n",
              "    <path d=\"M120-120v-720h720v720H120Zm60-500h600v-160H180v160Zm220 220h160v-160H400v160Zm0 220h160v-160H400v160ZM180-400h160v-160H180v160Zm440 0h160v-160H620v160ZM180-180h160v-160H180v160Zm440 0h160v-160H620v160Z\"/>\n",
              "  </svg>\n",
              "    </button>\n",
              "\n",
              "  <style>\n",
              "    .colab-df-container {\n",
              "      display:flex;\n",
              "      gap: 12px;\n",
              "    }\n",
              "\n",
              "    .colab-df-convert {\n",
              "      background-color: #E8F0FE;\n",
              "      border: none;\n",
              "      border-radius: 50%;\n",
              "      cursor: pointer;\n",
              "      display: none;\n",
              "      fill: #1967D2;\n",
              "      height: 32px;\n",
              "      padding: 0 0 0 0;\n",
              "      width: 32px;\n",
              "    }\n",
              "\n",
              "    .colab-df-convert:hover {\n",
              "      background-color: #E2EBFA;\n",
              "      box-shadow: 0px 1px 2px rgba(60, 64, 67, 0.3), 0px 1px 3px 1px rgba(60, 64, 67, 0.15);\n",
              "      fill: #174EA6;\n",
              "    }\n",
              "\n",
              "    .colab-df-buttons div {\n",
              "      margin-bottom: 4px;\n",
              "    }\n",
              "\n",
              "    [theme=dark] .colab-df-convert {\n",
              "      background-color: #3B4455;\n",
              "      fill: #D2E3FC;\n",
              "    }\n",
              "\n",
              "    [theme=dark] .colab-df-convert:hover {\n",
              "      background-color: #434B5C;\n",
              "      box-shadow: 0px 1px 3px 1px rgba(0, 0, 0, 0.15);\n",
              "      filter: drop-shadow(0px 1px 2px rgba(0, 0, 0, 0.3));\n",
              "      fill: #FFFFFF;\n",
              "    }\n",
              "  </style>\n",
              "\n",
              "    <script>\n",
              "      const buttonEl =\n",
              "        document.querySelector('#df-acbc92fe-b484-4b84-be3e-34b3796f1b6f button.colab-df-convert');\n",
              "      buttonEl.style.display =\n",
              "        google.colab.kernel.accessAllowed ? 'block' : 'none';\n",
              "\n",
              "      async function convertToInteractive(key) {\n",
              "        const element = document.querySelector('#df-acbc92fe-b484-4b84-be3e-34b3796f1b6f');\n",
              "        const dataTable =\n",
              "          await google.colab.kernel.invokeFunction('convertToInteractive',\n",
              "                                                    [key], {});\n",
              "        if (!dataTable) return;\n",
              "\n",
              "        const docLinkHtml = 'Like what you see? Visit the ' +\n",
              "          '<a target=\"_blank\" href=https://colab.research.google.com/notebooks/data_table.ipynb>data table notebook</a>'\n",
              "          + ' to learn more about interactive tables.';\n",
              "        element.innerHTML = '';\n",
              "        dataTable['output_type'] = 'display_data';\n",
              "        await google.colab.output.renderOutput(dataTable, element);\n",
              "        const docLink = document.createElement('div');\n",
              "        docLink.innerHTML = docLinkHtml;\n",
              "        element.appendChild(docLink);\n",
              "      }\n",
              "    </script>\n",
              "  </div>\n",
              "\n",
              "\n",
              "<div id=\"df-2aaf1527-753b-4995-a4c1-52ea7eeea4c9\">\n",
              "  <button class=\"colab-df-quickchart\" onclick=\"quickchart('df-2aaf1527-753b-4995-a4c1-52ea7eeea4c9')\"\n",
              "            title=\"Suggest charts\"\n",
              "            style=\"display:none;\">\n",
              "\n",
              "<svg xmlns=\"http://www.w3.org/2000/svg\" height=\"24px\"viewBox=\"0 0 24 24\"\n",
              "     width=\"24px\">\n",
              "    <g>\n",
              "        <path d=\"M19 3H5c-1.1 0-2 .9-2 2v14c0 1.1.9 2 2 2h14c1.1 0 2-.9 2-2V5c0-1.1-.9-2-2-2zM9 17H7v-7h2v7zm4 0h-2V7h2v10zm4 0h-2v-4h2v4z\"/>\n",
              "    </g>\n",
              "</svg>\n",
              "  </button>\n",
              "\n",
              "<style>\n",
              "  .colab-df-quickchart {\n",
              "      --bg-color: #E8F0FE;\n",
              "      --fill-color: #1967D2;\n",
              "      --hover-bg-color: #E2EBFA;\n",
              "      --hover-fill-color: #174EA6;\n",
              "      --disabled-fill-color: #AAA;\n",
              "      --disabled-bg-color: #DDD;\n",
              "  }\n",
              "\n",
              "  [theme=dark] .colab-df-quickchart {\n",
              "      --bg-color: #3B4455;\n",
              "      --fill-color: #D2E3FC;\n",
              "      --hover-bg-color: #434B5C;\n",
              "      --hover-fill-color: #FFFFFF;\n",
              "      --disabled-bg-color: #3B4455;\n",
              "      --disabled-fill-color: #666;\n",
              "  }\n",
              "\n",
              "  .colab-df-quickchart {\n",
              "    background-color: var(--bg-color);\n",
              "    border: none;\n",
              "    border-radius: 50%;\n",
              "    cursor: pointer;\n",
              "    display: none;\n",
              "    fill: var(--fill-color);\n",
              "    height: 32px;\n",
              "    padding: 0;\n",
              "    width: 32px;\n",
              "  }\n",
              "\n",
              "  .colab-df-quickchart:hover {\n",
              "    background-color: var(--hover-bg-color);\n",
              "    box-shadow: 0 1px 2px rgba(60, 64, 67, 0.3), 0 1px 3px 1px rgba(60, 64, 67, 0.15);\n",
              "    fill: var(--button-hover-fill-color);\n",
              "  }\n",
              "\n",
              "  .colab-df-quickchart-complete:disabled,\n",
              "  .colab-df-quickchart-complete:disabled:hover {\n",
              "    background-color: var(--disabled-bg-color);\n",
              "    fill: var(--disabled-fill-color);\n",
              "    box-shadow: none;\n",
              "  }\n",
              "\n",
              "  .colab-df-spinner {\n",
              "    border: 2px solid var(--fill-color);\n",
              "    border-color: transparent;\n",
              "    border-bottom-color: var(--fill-color);\n",
              "    animation:\n",
              "      spin 1s steps(1) infinite;\n",
              "  }\n",
              "\n",
              "  @keyframes spin {\n",
              "    0% {\n",
              "      border-color: transparent;\n",
              "      border-bottom-color: var(--fill-color);\n",
              "      border-left-color: var(--fill-color);\n",
              "    }\n",
              "    20% {\n",
              "      border-color: transparent;\n",
              "      border-left-color: var(--fill-color);\n",
              "      border-top-color: var(--fill-color);\n",
              "    }\n",
              "    30% {\n",
              "      border-color: transparent;\n",
              "      border-left-color: var(--fill-color);\n",
              "      border-top-color: var(--fill-color);\n",
              "      border-right-color: var(--fill-color);\n",
              "    }\n",
              "    40% {\n",
              "      border-color: transparent;\n",
              "      border-right-color: var(--fill-color);\n",
              "      border-top-color: var(--fill-color);\n",
              "    }\n",
              "    60% {\n",
              "      border-color: transparent;\n",
              "      border-right-color: var(--fill-color);\n",
              "    }\n",
              "    80% {\n",
              "      border-color: transparent;\n",
              "      border-right-color: var(--fill-color);\n",
              "      border-bottom-color: var(--fill-color);\n",
              "    }\n",
              "    90% {\n",
              "      border-color: transparent;\n",
              "      border-bottom-color: var(--fill-color);\n",
              "    }\n",
              "  }\n",
              "</style>\n",
              "\n",
              "  <script>\n",
              "    async function quickchart(key) {\n",
              "      const quickchartButtonEl =\n",
              "        document.querySelector('#' + key + ' button');\n",
              "      quickchartButtonEl.disabled = true;  // To prevent multiple clicks.\n",
              "      quickchartButtonEl.classList.add('colab-df-spinner');\n",
              "      try {\n",
              "        const charts = await google.colab.kernel.invokeFunction(\n",
              "            'suggestCharts', [key], {});\n",
              "      } catch (error) {\n",
              "        console.error('Error during call to suggestCharts:', error);\n",
              "      }\n",
              "      quickchartButtonEl.classList.remove('colab-df-spinner');\n",
              "      quickchartButtonEl.classList.add('colab-df-quickchart-complete');\n",
              "    }\n",
              "    (() => {\n",
              "      let quickchartButtonEl =\n",
              "        document.querySelector('#df-2aaf1527-753b-4995-a4c1-52ea7eeea4c9 button');\n",
              "      quickchartButtonEl.style.display =\n",
              "        google.colab.kernel.accessAllowed ? 'block' : 'none';\n",
              "    })();\n",
              "  </script>\n",
              "</div>\n",
              "\n",
              "  <div id=\"id_26165e45-d2ae-4547-b5ab-4c7a2f475abb\">\n",
              "    <style>\n",
              "      .colab-df-generate {\n",
              "        background-color: #E8F0FE;\n",
              "        border: none;\n",
              "        border-radius: 50%;\n",
              "        cursor: pointer;\n",
              "        display: none;\n",
              "        fill: #1967D2;\n",
              "        height: 32px;\n",
              "        padding: 0 0 0 0;\n",
              "        width: 32px;\n",
              "      }\n",
              "\n",
              "      .colab-df-generate:hover {\n",
              "        background-color: #E2EBFA;\n",
              "        box-shadow: 0px 1px 2px rgba(60, 64, 67, 0.3), 0px 1px 3px 1px rgba(60, 64, 67, 0.15);\n",
              "        fill: #174EA6;\n",
              "      }\n",
              "\n",
              "      [theme=dark] .colab-df-generate {\n",
              "        background-color: #3B4455;\n",
              "        fill: #D2E3FC;\n",
              "      }\n",
              "\n",
              "      [theme=dark] .colab-df-generate:hover {\n",
              "        background-color: #434B5C;\n",
              "        box-shadow: 0px 1px 3px 1px rgba(0, 0, 0, 0.15);\n",
              "        filter: drop-shadow(0px 1px 2px rgba(0, 0, 0, 0.3));\n",
              "        fill: #FFFFFF;\n",
              "      }\n",
              "    </style>\n",
              "    <button class=\"colab-df-generate\" onclick=\"generateWithVariable('df')\"\n",
              "            title=\"Generate code using this dataframe.\"\n",
              "            style=\"display:none;\">\n",
              "\n",
              "  <svg xmlns=\"http://www.w3.org/2000/svg\" height=\"24px\"viewBox=\"0 0 24 24\"\n",
              "       width=\"24px\">\n",
              "    <path d=\"M7,19H8.4L18.45,9,17,7.55,7,17.6ZM5,21V16.75L18.45,3.32a2,2,0,0,1,2.83,0l1.4,1.43a1.91,1.91,0,0,1,.58,1.4,1.91,1.91,0,0,1-.58,1.4L9.25,21ZM18.45,9,17,7.55Zm-12,3A5.31,5.31,0,0,0,4.9,8.1,5.31,5.31,0,0,0,1,6.5,5.31,5.31,0,0,0,4.9,4.9,5.31,5.31,0,0,0,6.5,1,5.31,5.31,0,0,0,8.1,4.9,5.31,5.31,0,0,0,12,6.5,5.46,5.46,0,0,0,6.5,12Z\"/>\n",
              "  </svg>\n",
              "    </button>\n",
              "    <script>\n",
              "      (() => {\n",
              "      const buttonEl =\n",
              "        document.querySelector('#id_26165e45-d2ae-4547-b5ab-4c7a2f475abb button.colab-df-generate');\n",
              "      buttonEl.style.display =\n",
              "        google.colab.kernel.accessAllowed ? 'block' : 'none';\n",
              "\n",
              "      buttonEl.onclick = () => {\n",
              "        google.colab.notebook.generateWithVariable('df');\n",
              "      }\n",
              "      })();\n",
              "    </script>\n",
              "  </div>\n",
              "\n",
              "    </div>\n",
              "  </div>\n"
            ],
            "application/vnd.google.colaboratory.intrinsic+json": {
              "type": "dataframe",
              "variable_name": "df"
            }
          },
          "metadata": {},
          "execution_count": 251
        }
      ]
    },
    {
      "cell_type": "code",
      "source": [
        "df.info() #dataset information"
      ],
      "metadata": {
        "colab": {
          "base_uri": "https://localhost:8080/"
        },
        "id": "fZwI4jqf12C5",
        "outputId": "2b3a72b1-a4ad-4831-fb91-d71abae7d414"
      },
      "execution_count": null,
      "outputs": [
        {
          "output_type": "stream",
          "name": "stdout",
          "text": [
            "<class 'pandas.core.frame.DataFrame'>\n",
            "RangeIndex: 368 entries, 0 to 367\n",
            "Data columns (total 27 columns):\n",
            " #   Column            Non-Null Count  Dtype  \n",
            "---  ------            --------------  -----  \n",
            " 0   sno               368 non-null    int64  \n",
            " 1   district          368 non-null    object \n",
            " 2   mandal            368 non-null    object \n",
            " 3   village           368 non-null    object \n",
            " 4   lat_gis           368 non-null    float64\n",
            " 5   long_gis          368 non-null    float64\n",
            " 6   gwl               365 non-null    float64\n",
            " 7   season            368 non-null    object \n",
            " 8   Unnamed: 8        0 non-null      float64\n",
            " 9   pH                368 non-null    object \n",
            " 10  E.C               368 non-null    int64  \n",
            " 11  TDS               368 non-null    float64\n",
            " 12  CO3               368 non-null    float64\n",
            " 13  HCO3              368 non-null    int64  \n",
            " 14  Cl                368 non-null    int64  \n",
            " 15  F                 368 non-null    float64\n",
            " 16  NO3               368 non-null    float64\n",
            " 17  SO4               368 non-null    float64\n",
            " 18  Na                368 non-null    float64\n",
            " 19  K                 368 non-null    float64\n",
            " 20  Ca                368 non-null    float64\n",
            " 21  Mg                368 non-null    float64\n",
            " 22  T.H               368 non-null    float64\n",
            " 23  SAR               368 non-null    float64\n",
            " 24  Classification    368 non-null    object \n",
            " 25  RSC  meq  / L     368 non-null    float64\n",
            " 26  Classification.1  368 non-null    object \n",
            "dtypes: float64(16), int64(4), object(7)\n",
            "memory usage: 77.8+ KB\n"
          ]
        }
      ]
    },
    {
      "cell_type": "markdown",
      "source": [
        "Removed Sno,Unamed & Season Columns"
      ],
      "metadata": {
        "id": "xcgwphw45yBN"
      }
    },
    {
      "cell_type": "code",
      "source": [
        "df.drop(\"sno\",axis='columns',inplace=True)"
      ],
      "metadata": {
        "id": "cjTgSVHb2TFr"
      },
      "execution_count": null,
      "outputs": []
    },
    {
      "cell_type": "code",
      "source": [
        "df.drop(\"Unnamed: 8\",axis='columns',inplace=True)"
      ],
      "metadata": {
        "id": "8BNyRNDQ4h9s"
      },
      "execution_count": null,
      "outputs": []
    },
    {
      "cell_type": "code",
      "source": [
        "df.drop(\"season\",axis='columns',inplace=True)"
      ],
      "metadata": {
        "id": "qvbMjuCJ6mwG"
      },
      "execution_count": null,
      "outputs": []
    },
    {
      "cell_type": "code",
      "source": [
        "df.info() #dataset information after removing columns"
      ],
      "metadata": {
        "colab": {
          "base_uri": "https://localhost:8080/"
        },
        "id": "vt2EVCK35dtH",
        "outputId": "bde3a8c3-6520-408a-d60a-143fa96c7ad0"
      },
      "execution_count": null,
      "outputs": [
        {
          "output_type": "stream",
          "name": "stdout",
          "text": [
            "<class 'pandas.core.frame.DataFrame'>\n",
            "RangeIndex: 368 entries, 0 to 367\n",
            "Data columns (total 24 columns):\n",
            " #   Column            Non-Null Count  Dtype  \n",
            "---  ------            --------------  -----  \n",
            " 0   district          368 non-null    object \n",
            " 1   mandal            368 non-null    object \n",
            " 2   village           368 non-null    object \n",
            " 3   lat_gis           368 non-null    float64\n",
            " 4   long_gis          368 non-null    float64\n",
            " 5   gwl               365 non-null    float64\n",
            " 6   pH                368 non-null    object \n",
            " 7   E.C               368 non-null    int64  \n",
            " 8   TDS               368 non-null    float64\n",
            " 9   CO3               368 non-null    float64\n",
            " 10  HCO3              368 non-null    int64  \n",
            " 11  Cl                368 non-null    int64  \n",
            " 12  F                 368 non-null    float64\n",
            " 13  NO3               368 non-null    float64\n",
            " 14  SO4               368 non-null    float64\n",
            " 15  Na                368 non-null    float64\n",
            " 16  K                 368 non-null    float64\n",
            " 17  Ca                368 non-null    float64\n",
            " 18  Mg                368 non-null    float64\n",
            " 19  T.H               368 non-null    float64\n",
            " 20  SAR               368 non-null    float64\n",
            " 21  Classification    368 non-null    object \n",
            " 22  RSC  meq  / L     368 non-null    float64\n",
            " 23  Classification.1  368 non-null    object \n",
            "dtypes: float64(15), int64(3), object(6)\n",
            "memory usage: 69.1+ KB\n"
          ]
        }
      ]
    },
    {
      "cell_type": "markdown",
      "source": [
        "Identifying Null Values"
      ],
      "metadata": {
        "id": "ZS9_V5fO6VoY"
      }
    },
    {
      "cell_type": "code",
      "source": [
        "df.isnull().sum() #checking null values"
      ],
      "metadata": {
        "colab": {
          "base_uri": "https://localhost:8080/"
        },
        "id": "2VGyfoSK5jiN",
        "outputId": "348b44ca-d920-43b9-c758-27c874df5e03"
      },
      "execution_count": null,
      "outputs": [
        {
          "output_type": "execute_result",
          "data": {
            "text/plain": [
              "district            0\n",
              "mandal              0\n",
              "village             0\n",
              "lat_gis             0\n",
              "long_gis            0\n",
              "gwl                 3\n",
              "pH                  0\n",
              "E.C                 0\n",
              "TDS                 0\n",
              "CO3                 0\n",
              "HCO3                0\n",
              "Cl                  0\n",
              "F                   0\n",
              "NO3                 0\n",
              "SO4                 0\n",
              "Na                  0\n",
              "K                   0\n",
              "Ca                  0\n",
              "Mg                  0\n",
              "T.H                 0\n",
              "SAR                 0\n",
              "Classification      0\n",
              "RSC  meq  / L       0\n",
              "Classification.1    0\n",
              "dtype: int64"
            ]
          },
          "metadata": {},
          "execution_count": 257
        }
      ]
    },
    {
      "cell_type": "code",
      "source": [
        "df['gwl']=df['gwl'].fillna(df['gwl'].mean()) #replacing NaN with mean value"
      ],
      "metadata": {
        "id": "KIMIXW0S6Ajv"
      },
      "execution_count": null,
      "outputs": []
    },
    {
      "cell_type": "code",
      "source": [
        "df.isnull().sum() #checking null values after replacing NaN with mean value"
      ],
      "metadata": {
        "colab": {
          "base_uri": "https://localhost:8080/"
        },
        "id": "VIxJkWbv6Iqa",
        "outputId": "87e27fe9-3c75-4307-d55e-fdb89a0dfdbb"
      },
      "execution_count": null,
      "outputs": [
        {
          "output_type": "execute_result",
          "data": {
            "text/plain": [
              "district            0\n",
              "mandal              0\n",
              "village             0\n",
              "lat_gis             0\n",
              "long_gis            0\n",
              "gwl                 0\n",
              "pH                  0\n",
              "E.C                 0\n",
              "TDS                 0\n",
              "CO3                 0\n",
              "HCO3                0\n",
              "Cl                  0\n",
              "F                   0\n",
              "NO3                 0\n",
              "SO4                 0\n",
              "Na                  0\n",
              "K                   0\n",
              "Ca                  0\n",
              "Mg                  0\n",
              "T.H                 0\n",
              "SAR                 0\n",
              "Classification      0\n",
              "RSC  meq  / L       0\n",
              "Classification.1    0\n",
              "dtype: int64"
            ]
          },
          "metadata": {},
          "execution_count": 259
        }
      ]
    },
    {
      "cell_type": "code",
      "source": [
        "df['pH']=df['pH'].replace('8..05',8.05) #replacing string value with float value\n",
        "df['pH']=df['pH'].astype('float')"
      ],
      "metadata": {
        "id": "zEZREa246Sbb"
      },
      "execution_count": null,
      "outputs": []
    },
    {
      "cell_type": "code",
      "source": [
        "df['pH'].dtypes"
      ],
      "metadata": {
        "colab": {
          "base_uri": "https://localhost:8080/"
        },
        "id": "D5X1OGLMBasz",
        "outputId": "989cbdd5-9ad6-4120-baf1-1d5c99d2cf34"
      },
      "execution_count": null,
      "outputs": [
        {
          "output_type": "execute_result",
          "data": {
            "text/plain": [
              "dtype('float64')"
            ]
          },
          "metadata": {},
          "execution_count": 261
        }
      ]
    },
    {
      "cell_type": "code",
      "source": [
        "df['gwl'].min() #checking minimum value in gwl column"
      ],
      "metadata": {
        "colab": {
          "base_uri": "https://localhost:8080/"
        },
        "id": "iTrbLjLXCIPU",
        "outputId": "c1ffb981-e9fb-4ff8-c757-23cde053cd6c"
      },
      "execution_count": null,
      "outputs": [
        {
          "output_type": "execute_result",
          "data": {
            "text/plain": [
              "0.17"
            ]
          },
          "metadata": {},
          "execution_count": 262
        }
      ]
    },
    {
      "cell_type": "code",
      "source": [
        "df['gwl'].max() #checking maximum value in gwl column"
      ],
      "metadata": {
        "colab": {
          "base_uri": "https://localhost:8080/"
        },
        "id": "x2Eg5Q6rCWjo",
        "outputId": "f25faec5-89a0-422e-e646-d8fe0c225164"
      },
      "execution_count": null,
      "outputs": [
        {
          "output_type": "execute_result",
          "data": {
            "text/plain": [
              "36.55"
            ]
          },
          "metadata": {},
          "execution_count": 263
        }
      ]
    },
    {
      "cell_type": "code",
      "source": [
        "import numpy as np"
      ],
      "metadata": {
        "id": "Mxs1VmCxEM6g"
      },
      "execution_count": null,
      "outputs": []
    },
    {
      "cell_type": "code",
      "source": [
        "df['RSC  meq  / L'].min() #checking minimum value in RSC  meq  / L column"
      ],
      "metadata": {
        "colab": {
          "base_uri": "https://localhost:8080/"
        },
        "id": "YaVCx8anEQaX",
        "outputId": "77e815a1-8f8f-4ebd-c5c8-1e9cf0652c6e"
      },
      "execution_count": null,
      "outputs": [
        {
          "output_type": "execute_result",
          "data": {
            "text/plain": [
              "-59.58453947"
            ]
          },
          "metadata": {},
          "execution_count": 265
        }
      ]
    },
    {
      "cell_type": "code",
      "source": [
        "df['RSC  meq  / L'].max() #checking maximum value in RSC  meq  / L column"
      ],
      "metadata": {
        "colab": {
          "base_uri": "https://localhost:8080/"
        },
        "id": "gpkoFA2pGBWn",
        "outputId": "31e863d4-23a7-4099-aa6a-817b9f0cdd7b"
      },
      "execution_count": null,
      "outputs": [
        {
          "output_type": "execute_result",
          "data": {
            "text/plain": [
              "18.20082237"
            ]
          },
          "metadata": {},
          "execution_count": 266
        }
      ]
    },
    {
      "cell_type": "code",
      "source": [
        "df['RSC  meq  / L'].isnull().sum() #checking null values in RSC  meq  / L column"
      ],
      "metadata": {
        "colab": {
          "base_uri": "https://localhost:8080/"
        },
        "id": "aSzBfu15gZVi",
        "outputId": "11808783-104d-45dc-efd7-64a9f7c4795b"
      },
      "execution_count": null,
      "outputs": [
        {
          "output_type": "execute_result",
          "data": {
            "text/plain": [
              "0"
            ]
          },
          "metadata": {},
          "execution_count": 267
        }
      ]
    },
    {
      "cell_type": "code",
      "source": [
        "df['RSC  meq  / L']=df['RSC  meq  / L'].astype('float') #converting object type to float type"
      ],
      "metadata": {
        "id": "OppkMMOBhs6j"
      },
      "execution_count": null,
      "outputs": []
    },
    {
      "cell_type": "code",
      "source": [
        "df['RSC  meq  / L'].dtype #checking data type of RSC  meq  / L column"
      ],
      "metadata": {
        "colab": {
          "base_uri": "https://localhost:8080/"
        },
        "id": "1_Qi9a28iHMn",
        "outputId": "93834510-d32c-4f75-dfb3-c6a4503eaa9b"
      },
      "execution_count": null,
      "outputs": [
        {
          "output_type": "execute_result",
          "data": {
            "text/plain": [
              "dtype('float64')"
            ]
          },
          "metadata": {},
          "execution_count": 293
        }
      ]
    },
    {
      "cell_type": "code",
      "source": [
        "df['RSC  meq  / L']=df['RSC  meq  / L'].fillna(df['RSC  meq  / L'].mean()) #replacing NaN with mean value"
      ],
      "metadata": {
        "id": "_TmXq8Whf1Dt"
      },
      "execution_count": null,
      "outputs": []
    },
    {
      "cell_type": "code",
      "source": [
        "bins=[-59.58453947,1.25,2.50,18.20082237]\n",
        "names=[1,2,3] # Safe,Marginal,Unsuitable\n",
        "df['RSC  meq  / L'] = pd.cut(df['RSC  meq  / L'], bins, labels=names) #converting RSC  meq  / L column into categorical column"
      ],
      "metadata": {
        "id": "fUNQbjMbF3LR"
      },
      "execution_count": null,
      "outputs": []
    },
    {
      "cell_type": "code",
      "source": [
        "df['RSC  meq  / L'].value_counts()"
      ],
      "metadata": {
        "colab": {
          "base_uri": "https://localhost:8080/"
        },
        "id": "A_mgjmE_GmX2",
        "outputId": "08b4bb2d-3cab-4e7c-9eed-7551ae3e68e6"
      },
      "execution_count": null,
      "outputs": [
        {
          "output_type": "execute_result",
          "data": {
            "text/plain": [
              "RSC  meq  / L\n",
              "1    323\n",
              "3     24\n",
              "2     21\n",
              "Name: count, dtype: int64"
            ]
          },
          "metadata": {},
          "execution_count": 296
        }
      ]
    },
    {
      "cell_type": "markdown",
      "source": [
        "Dropping Unnecessary columns"
      ],
      "metadata": {
        "id": "UvChKesNmlVh"
      }
    },
    {
      "cell_type": "code",
      "source": [
        "df.drop(\"Ca\",axis='columns',inplace=True)"
      ],
      "metadata": {
        "id": "ZS2D72KIGokE"
      },
      "execution_count": null,
      "outputs": []
    },
    {
      "cell_type": "code",
      "source": [
        "df.drop(\"Mg\",axis='columns',inplace=True)"
      ],
      "metadata": {
        "id": "xghdEZW4AhJe"
      },
      "execution_count": null,
      "outputs": []
    },
    {
      "cell_type": "code",
      "source": [
        "df.drop(\"CO3\",axis='columns',inplace=True)"
      ],
      "metadata": {
        "id": "QqNrGR-yBGdA"
      },
      "execution_count": null,
      "outputs": []
    },
    {
      "cell_type": "code",
      "source": [
        "df.drop(\"HCO3\",axis='columns',inplace=True)"
      ],
      "metadata": {
        "id": "Ap_25YqoBanq"
      },
      "execution_count": null,
      "outputs": []
    },
    {
      "cell_type": "code",
      "source": [
        "df.drop(\"F\",axis='columns',inplace=True)"
      ],
      "metadata": {
        "id": "Ow-0kJYxBnhP"
      },
      "execution_count": null,
      "outputs": []
    },
    {
      "cell_type": "code",
      "source": [
        "df.drop(\"K\",axis='columns',inplace=True)"
      ],
      "metadata": {
        "id": "FH_OVoutBwtf"
      },
      "execution_count": null,
      "outputs": []
    },
    {
      "cell_type": "code",
      "source": [
        "df.drop(\"Na\",axis='columns',inplace=True)"
      ],
      "metadata": {
        "id": "LtIDDwl_B1gC"
      },
      "execution_count": null,
      "outputs": []
    },
    {
      "cell_type": "code",
      "source": [
        "df.drop(\"SO4\",axis='columns',inplace=True)"
      ],
      "metadata": {
        "id": "wVYhqhNbCuNk"
      },
      "execution_count": null,
      "outputs": []
    },
    {
      "cell_type": "code",
      "source": [
        "df.drop(\"lat_gis\",axis='columns',inplace=True)"
      ],
      "metadata": {
        "id": "H4iWwsfeCyal"
      },
      "execution_count": null,
      "outputs": []
    },
    {
      "cell_type": "code",
      "source": [
        "df.drop(\"long_gis\",axis='columns',inplace=True)"
      ],
      "metadata": {
        "id": "xO_G-k5BDF1e"
      },
      "execution_count": null,
      "outputs": []
    },
    {
      "cell_type": "code",
      "source": [
        "df.drop(\"Cl\",axis='columns',inplace=True)"
      ],
      "metadata": {
        "id": "Ck2J1SyDDVKj"
      },
      "execution_count": null,
      "outputs": []
    },
    {
      "cell_type": "code",
      "source": [
        "df.drop(\"NO3 \",axis='columns',inplace=True)"
      ],
      "metadata": {
        "id": "1hAL_-IiDaZD"
      },
      "execution_count": null,
      "outputs": []
    },
    {
      "cell_type": "code",
      "source": [
        "df.columns #columns after dropping unnecessary columns"
      ],
      "metadata": {
        "colab": {
          "base_uri": "https://localhost:8080/"
        },
        "id": "y4BxggdBDvky",
        "outputId": "c802d278-91ba-4067-b073-d374482064f0"
      },
      "execution_count": null,
      "outputs": [
        {
          "output_type": "execute_result",
          "data": {
            "text/plain": [
              "Index(['district', 'mandal', 'village', 'gwl', 'pH', 'E.C', 'TDS', 'T.H',\n",
              "       'SAR', 'Classification', 'RSC  meq  / L', 'Classification.1'],\n",
              "      dtype='object')"
            ]
          },
          "metadata": {},
          "execution_count": 297
        }
      ]
    },
    {
      "cell_type": "code",
      "source": [
        "x=df[['gwl','pH','E.C','TDS','T.H','SAR']]\n",
        "y=df[['RSC  meq  / L']] #independent and dependent variables"
      ],
      "metadata": {
        "id": "o5hIzNvRYc8l"
      },
      "execution_count": null,
      "outputs": []
    },
    {
      "cell_type": "code",
      "source": [
        "from sklearn.tree import DecisionTreeClassifier\n",
        "from sklearn.model_selection import GridSearchCV #for hyperparameter tuning"
      ],
      "metadata": {
        "id": "wQFaVLd3dqxD"
      },
      "execution_count": null,
      "outputs": []
    },
    {
      "cell_type": "code",
      "source": [
        "param_grid = {\n",
        "    'criterion': ['gini', 'entropy'],\n",
        "    'max_depth': [None, 5, 10, 15],\n",
        "    'min_samples_split': [2, 5, 10],\n",
        "    'min_samples_leaf': [1, 2, 4]\n",
        "}\n",
        "\n",
        "grid_search = GridSearchCV(estimator=DecisionTreeClassifier(), param_grid=param_grid, cv=5, scoring='accuracy') #creating a grid search object\n",
        "grid_search.fit(x, y) #fitting the model"
      ],
      "metadata": {
        "colab": {
          "base_uri": "https://localhost:8080/",
          "height": 118
        },
        "id": "HfdgsjbLYc-H",
        "outputId": "f34c999f-ed2e-44f1-f5d6-138be0728810"
      },
      "execution_count": null,
      "outputs": [
        {
          "output_type": "execute_result",
          "data": {
            "text/plain": [
              "GridSearchCV(cv=5, estimator=DecisionTreeClassifier(),\n",
              "             param_grid={'criterion': ['gini', 'entropy'],\n",
              "                         'max_depth': [None, 5, 10, 15],\n",
              "                         'min_samples_leaf': [1, 2, 4],\n",
              "                         'min_samples_split': [2, 5, 10]},\n",
              "             scoring='accuracy')"
            ],
            "text/html": [
              "<style>#sk-container-id-1 {color: black;background-color: white;}#sk-container-id-1 pre{padding: 0;}#sk-container-id-1 div.sk-toggleable {background-color: white;}#sk-container-id-1 label.sk-toggleable__label {cursor: pointer;display: block;width: 100%;margin-bottom: 0;padding: 0.3em;box-sizing: border-box;text-align: center;}#sk-container-id-1 label.sk-toggleable__label-arrow:before {content: \"▸\";float: left;margin-right: 0.25em;color: #696969;}#sk-container-id-1 label.sk-toggleable__label-arrow:hover:before {color: black;}#sk-container-id-1 div.sk-estimator:hover label.sk-toggleable__label-arrow:before {color: black;}#sk-container-id-1 div.sk-toggleable__content {max-height: 0;max-width: 0;overflow: hidden;text-align: left;background-color: #f0f8ff;}#sk-container-id-1 div.sk-toggleable__content pre {margin: 0.2em;color: black;border-radius: 0.25em;background-color: #f0f8ff;}#sk-container-id-1 input.sk-toggleable__control:checked~div.sk-toggleable__content {max-height: 200px;max-width: 100%;overflow: auto;}#sk-container-id-1 input.sk-toggleable__control:checked~label.sk-toggleable__label-arrow:before {content: \"▾\";}#sk-container-id-1 div.sk-estimator input.sk-toggleable__control:checked~label.sk-toggleable__label {background-color: #d4ebff;}#sk-container-id-1 div.sk-label input.sk-toggleable__control:checked~label.sk-toggleable__label {background-color: #d4ebff;}#sk-container-id-1 input.sk-hidden--visually {border: 0;clip: rect(1px 1px 1px 1px);clip: rect(1px, 1px, 1px, 1px);height: 1px;margin: -1px;overflow: hidden;padding: 0;position: absolute;width: 1px;}#sk-container-id-1 div.sk-estimator {font-family: monospace;background-color: #f0f8ff;border: 1px dotted black;border-radius: 0.25em;box-sizing: border-box;margin-bottom: 0.5em;}#sk-container-id-1 div.sk-estimator:hover {background-color: #d4ebff;}#sk-container-id-1 div.sk-parallel-item::after {content: \"\";width: 100%;border-bottom: 1px solid gray;flex-grow: 1;}#sk-container-id-1 div.sk-label:hover label.sk-toggleable__label {background-color: #d4ebff;}#sk-container-id-1 div.sk-serial::before {content: \"\";position: absolute;border-left: 1px solid gray;box-sizing: border-box;top: 0;bottom: 0;left: 50%;z-index: 0;}#sk-container-id-1 div.sk-serial {display: flex;flex-direction: column;align-items: center;background-color: white;padding-right: 0.2em;padding-left: 0.2em;position: relative;}#sk-container-id-1 div.sk-item {position: relative;z-index: 1;}#sk-container-id-1 div.sk-parallel {display: flex;align-items: stretch;justify-content: center;background-color: white;position: relative;}#sk-container-id-1 div.sk-item::before, #sk-container-id-1 div.sk-parallel-item::before {content: \"\";position: absolute;border-left: 1px solid gray;box-sizing: border-box;top: 0;bottom: 0;left: 50%;z-index: -1;}#sk-container-id-1 div.sk-parallel-item {display: flex;flex-direction: column;z-index: 1;position: relative;background-color: white;}#sk-container-id-1 div.sk-parallel-item:first-child::after {align-self: flex-end;width: 50%;}#sk-container-id-1 div.sk-parallel-item:last-child::after {align-self: flex-start;width: 50%;}#sk-container-id-1 div.sk-parallel-item:only-child::after {width: 0;}#sk-container-id-1 div.sk-dashed-wrapped {border: 1px dashed gray;margin: 0 0.4em 0.5em 0.4em;box-sizing: border-box;padding-bottom: 0.4em;background-color: white;}#sk-container-id-1 div.sk-label label {font-family: monospace;font-weight: bold;display: inline-block;line-height: 1.2em;}#sk-container-id-1 div.sk-label-container {text-align: center;}#sk-container-id-1 div.sk-container {/* jupyter's `normalize.less` sets `[hidden] { display: none; }` but bootstrap.min.css set `[hidden] { display: none !important; }` so we also need the `!important` here to be able to override the default hidden behavior on the sphinx rendered scikit-learn.org. See: https://github.com/scikit-learn/scikit-learn/issues/21755 */display: inline-block !important;position: relative;}#sk-container-id-1 div.sk-text-repr-fallback {display: none;}</style><div id=\"sk-container-id-1\" class=\"sk-top-container\"><div class=\"sk-text-repr-fallback\"><pre>GridSearchCV(cv=5, estimator=DecisionTreeClassifier(),\n",
              "             param_grid={&#x27;criterion&#x27;: [&#x27;gini&#x27;, &#x27;entropy&#x27;],\n",
              "                         &#x27;max_depth&#x27;: [None, 5, 10, 15],\n",
              "                         &#x27;min_samples_leaf&#x27;: [1, 2, 4],\n",
              "                         &#x27;min_samples_split&#x27;: [2, 5, 10]},\n",
              "             scoring=&#x27;accuracy&#x27;)</pre><b>In a Jupyter environment, please rerun this cell to show the HTML representation or trust the notebook. <br />On GitHub, the HTML representation is unable to render, please try loading this page with nbviewer.org.</b></div><div class=\"sk-container\" hidden><div class=\"sk-item sk-dashed-wrapped\"><div class=\"sk-label-container\"><div class=\"sk-label sk-toggleable\"><input class=\"sk-toggleable__control sk-hidden--visually\" id=\"sk-estimator-id-1\" type=\"checkbox\" ><label for=\"sk-estimator-id-1\" class=\"sk-toggleable__label sk-toggleable__label-arrow\">GridSearchCV</label><div class=\"sk-toggleable__content\"><pre>GridSearchCV(cv=5, estimator=DecisionTreeClassifier(),\n",
              "             param_grid={&#x27;criterion&#x27;: [&#x27;gini&#x27;, &#x27;entropy&#x27;],\n",
              "                         &#x27;max_depth&#x27;: [None, 5, 10, 15],\n",
              "                         &#x27;min_samples_leaf&#x27;: [1, 2, 4],\n",
              "                         &#x27;min_samples_split&#x27;: [2, 5, 10]},\n",
              "             scoring=&#x27;accuracy&#x27;)</pre></div></div></div><div class=\"sk-parallel\"><div class=\"sk-parallel-item\"><div class=\"sk-item\"><div class=\"sk-label-container\"><div class=\"sk-label sk-toggleable\"><input class=\"sk-toggleable__control sk-hidden--visually\" id=\"sk-estimator-id-2\" type=\"checkbox\" ><label for=\"sk-estimator-id-2\" class=\"sk-toggleable__label sk-toggleable__label-arrow\">estimator: DecisionTreeClassifier</label><div class=\"sk-toggleable__content\"><pre>DecisionTreeClassifier()</pre></div></div></div><div class=\"sk-serial\"><div class=\"sk-item\"><div class=\"sk-estimator sk-toggleable\"><input class=\"sk-toggleable__control sk-hidden--visually\" id=\"sk-estimator-id-3\" type=\"checkbox\" ><label for=\"sk-estimator-id-3\" class=\"sk-toggleable__label sk-toggleable__label-arrow\">DecisionTreeClassifier</label><div class=\"sk-toggleable__content\"><pre>DecisionTreeClassifier()</pre></div></div></div></div></div></div></div></div></div></div>"
            ]
          },
          "metadata": {},
          "execution_count": 300
        }
      ]
    },
    {
      "cell_type": "code",
      "source": [
        "grid_search.best_params_ #best parameters for the model"
      ],
      "metadata": {
        "colab": {
          "base_uri": "https://localhost:8080/"
        },
        "id": "RUkbZOFyfr3e",
        "outputId": "34dad99b-f068-4810-a30c-71eaaa1683ad"
      },
      "execution_count": null,
      "outputs": [
        {
          "output_type": "execute_result",
          "data": {
            "text/plain": [
              "{'criterion': 'gini',\n",
              " 'max_depth': 10,\n",
              " 'min_samples_leaf': 2,\n",
              " 'min_samples_split': 10}"
            ]
          },
          "metadata": {},
          "execution_count": 302
        }
      ]
    },
    {
      "cell_type": "code",
      "source": [
        "accuracy=grid_search.best_score_ #best accuracy"
      ],
      "metadata": {
        "id": "G-XZgvCLfoC8"
      },
      "execution_count": null,
      "outputs": []
    },
    {
      "cell_type": "code",
      "source": [
        "accuracy"
      ],
      "metadata": {
        "colab": {
          "base_uri": "https://localhost:8080/"
        },
        "id": "juTe9cYGjDNS",
        "outputId": "369aac40-14af-43b8-80bc-cd76dcce7e45"
      },
      "execution_count": null,
      "outputs": [
        {
          "output_type": "execute_result",
          "data": {
            "text/plain": [
              "0.9129951869677898"
            ]
          },
          "metadata": {},
          "execution_count": 305
        }
      ]
    },
    {
      "cell_type": "code",
      "source": [
        "from sklearn.model_selection import cross_val_score, KFold\n",
        "\n",
        "num_folds = 5\n",
        "kf = KFold(n_splits=num_folds, shuffle=True, random_state=20) #cross validation"
      ],
      "metadata": {
        "id": "mvaLJ2G7jLzQ"
      },
      "execution_count": null,
      "outputs": []
    },
    {
      "cell_type": "code",
      "source": [
        "from sklearn.metrics import accuracy_score"
      ],
      "metadata": {
        "id": "kwsHdsflkTB0"
      },
      "execution_count": null,
      "outputs": []
    },
    {
      "cell_type": "code",
      "source": [
        "cv =cross_val_score(DecisionTreeClassifier(),x,y,cv=4,scoring='accuracy') #cross validation"
      ],
      "metadata": {
        "id": "cKV7J7SgkWrf"
      },
      "execution_count": null,
      "outputs": []
    },
    {
      "cell_type": "code",
      "source": [
        "cv"
      ],
      "metadata": {
        "colab": {
          "base_uri": "https://localhost:8080/"
        },
        "id": "07aN3oAIkpvo",
        "outputId": "9222661b-6378-4fe8-dbf3-a94e06da964b"
      },
      "execution_count": null,
      "outputs": [
        {
          "output_type": "execute_result",
          "data": {
            "text/plain": [
              "array([0.91304348, 0.85869565, 0.92391304, 0.86956522])"
            ]
          },
          "metadata": {},
          "execution_count": 315
        }
      ]
    },
    {
      "cell_type": "code",
      "source": [
        "from sklearn.model_selection import train_test_split\n",
        "x_train,x_test,y_train,y_test=train_test_split(x,y,test_size=0.2)"
      ],
      "metadata": {
        "id": "gGp37DZkyM11"
      },
      "execution_count": null,
      "outputs": []
    },
    {
      "cell_type": "code",
      "source": [
        "from sklearn.ensemble import RandomForestClassifier\n",
        "clf=RandomForestClassifier(n_estimators=2, criterion='entropy')"
      ],
      "metadata": {
        "id": "8cYrIWIEyf5h"
      },
      "execution_count": null,
      "outputs": []
    },
    {
      "cell_type": "code",
      "source": [
        "print(clf)"
      ],
      "metadata": {
        "colab": {
          "base_uri": "https://localhost:8080/",
          "height": 141
        },
        "id": "ofsfVZzoymPs",
        "outputId": "12f6eba5-6bab-4447-d858-738fd692f40e"
      },
      "execution_count": null,
      "outputs": [
        {
          "output_type": "error",
          "ename": "NameError",
          "evalue": "name 'clf' is not defined",
          "traceback": [
            "\u001b[0;31m---------------------------------------------------------------------------\u001b[0m",
            "\u001b[0;31mNameError\u001b[0m                                 Traceback (most recent call last)",
            "\u001b[0;32m<ipython-input-1-1de98a197ba0>\u001b[0m in \u001b[0;36m<cell line: 1>\u001b[0;34m()\u001b[0m\n\u001b[0;32m----> 1\u001b[0;31m \u001b[0mprint\u001b[0m\u001b[0;34m(\u001b[0m\u001b[0mclf\u001b[0m\u001b[0;34m)\u001b[0m\u001b[0;34m\u001b[0m\u001b[0;34m\u001b[0m\u001b[0m\n\u001b[0m",
            "\u001b[0;31mNameError\u001b[0m: name 'clf' is not defined"
          ]
        }
      ]
    },
    {
      "cell_type": "code",
      "source": [
        "model=clf.fit(x_train, y_train)"
      ],
      "metadata": {
        "colab": {
          "base_uri": "https://localhost:8080/"
        },
        "id": "0qtDhr-kyo5E",
        "outputId": "4f3858c4-f778-46f5-e6e7-445780de5d94"
      },
      "execution_count": null,
      "outputs": [
        {
          "output_type": "stream",
          "name": "stderr",
          "text": [
            "<ipython-input-338-f7936e626ada>:1: DataConversionWarning: A column-vector y was passed when a 1d array was expected. Please change the shape of y to (n_samples,), for example using ravel().\n",
            "  model=clf.fit(x_train, y_train)\n"
          ]
        }
      ]
    },
    {
      "cell_type": "code",
      "source": [
        "\n",
        "Y_pred=model.predict(x_test)"
      ],
      "metadata": {
        "id": "GlqDBRUzyv6d"
      },
      "execution_count": null,
      "outputs": []
    },
    {
      "cell_type": "code",
      "source": [
        "Y_pred[0:5]"
      ],
      "metadata": {
        "colab": {
          "base_uri": "https://localhost:8080/"
        },
        "id": "MRJnFMq6yzEs",
        "outputId": "73579b51-9d28-467b-e635-a82a4a191529"
      },
      "execution_count": null,
      "outputs": [
        {
          "output_type": "execute_result",
          "data": {
            "text/plain": [
              "array([3, 1, 1, 1, 1])"
            ]
          },
          "metadata": {},
          "execution_count": 340
        }
      ]
    },
    {
      "cell_type": "code",
      "source": [
        "y_test[0:5]"
      ],
      "metadata": {
        "colab": {
          "base_uri": "https://localhost:8080/",
          "height": 206
        },
        "id": "4kPeUj7my3G0",
        "outputId": "c9e7f3ee-0a39-471f-efac-a99c71575821"
      },
      "execution_count": null,
      "outputs": [
        {
          "output_type": "execute_result",
          "data": {
            "text/plain": [
              "    RSC  meq  / L\n",
              "207             3\n",
              "114             1\n",
              "251             1\n",
              "44              1\n",
              "206             1"
            ],
            "text/html": [
              "\n",
              "  <div id=\"df-aab73ed0-b3da-4dcc-bec6-259ee9d11c6c\" class=\"colab-df-container\">\n",
              "    <div>\n",
              "<style scoped>\n",
              "    .dataframe tbody tr th:only-of-type {\n",
              "        vertical-align: middle;\n",
              "    }\n",
              "\n",
              "    .dataframe tbody tr th {\n",
              "        vertical-align: top;\n",
              "    }\n",
              "\n",
              "    .dataframe thead th {\n",
              "        text-align: right;\n",
              "    }\n",
              "</style>\n",
              "<table border=\"1\" class=\"dataframe\">\n",
              "  <thead>\n",
              "    <tr style=\"text-align: right;\">\n",
              "      <th></th>\n",
              "      <th>RSC  meq  / L</th>\n",
              "    </tr>\n",
              "  </thead>\n",
              "  <tbody>\n",
              "    <tr>\n",
              "      <th>207</th>\n",
              "      <td>3</td>\n",
              "    </tr>\n",
              "    <tr>\n",
              "      <th>114</th>\n",
              "      <td>1</td>\n",
              "    </tr>\n",
              "    <tr>\n",
              "      <th>251</th>\n",
              "      <td>1</td>\n",
              "    </tr>\n",
              "    <tr>\n",
              "      <th>44</th>\n",
              "      <td>1</td>\n",
              "    </tr>\n",
              "    <tr>\n",
              "      <th>206</th>\n",
              "      <td>1</td>\n",
              "    </tr>\n",
              "  </tbody>\n",
              "</table>\n",
              "</div>\n",
              "    <div class=\"colab-df-buttons\">\n",
              "\n",
              "  <div class=\"colab-df-container\">\n",
              "    <button class=\"colab-df-convert\" onclick=\"convertToInteractive('df-aab73ed0-b3da-4dcc-bec6-259ee9d11c6c')\"\n",
              "            title=\"Convert this dataframe to an interactive table.\"\n",
              "            style=\"display:none;\">\n",
              "\n",
              "  <svg xmlns=\"http://www.w3.org/2000/svg\" height=\"24px\" viewBox=\"0 -960 960 960\">\n",
              "    <path d=\"M120-120v-720h720v720H120Zm60-500h600v-160H180v160Zm220 220h160v-160H400v160Zm0 220h160v-160H400v160ZM180-400h160v-160H180v160Zm440 0h160v-160H620v160ZM180-180h160v-160H180v160Zm440 0h160v-160H620v160Z\"/>\n",
              "  </svg>\n",
              "    </button>\n",
              "\n",
              "  <style>\n",
              "    .colab-df-container {\n",
              "      display:flex;\n",
              "      gap: 12px;\n",
              "    }\n",
              "\n",
              "    .colab-df-convert {\n",
              "      background-color: #E8F0FE;\n",
              "      border: none;\n",
              "      border-radius: 50%;\n",
              "      cursor: pointer;\n",
              "      display: none;\n",
              "      fill: #1967D2;\n",
              "      height: 32px;\n",
              "      padding: 0 0 0 0;\n",
              "      width: 32px;\n",
              "    }\n",
              "\n",
              "    .colab-df-convert:hover {\n",
              "      background-color: #E2EBFA;\n",
              "      box-shadow: 0px 1px 2px rgba(60, 64, 67, 0.3), 0px 1px 3px 1px rgba(60, 64, 67, 0.15);\n",
              "      fill: #174EA6;\n",
              "    }\n",
              "\n",
              "    .colab-df-buttons div {\n",
              "      margin-bottom: 4px;\n",
              "    }\n",
              "\n",
              "    [theme=dark] .colab-df-convert {\n",
              "      background-color: #3B4455;\n",
              "      fill: #D2E3FC;\n",
              "    }\n",
              "\n",
              "    [theme=dark] .colab-df-convert:hover {\n",
              "      background-color: #434B5C;\n",
              "      box-shadow: 0px 1px 3px 1px rgba(0, 0, 0, 0.15);\n",
              "      filter: drop-shadow(0px 1px 2px rgba(0, 0, 0, 0.3));\n",
              "      fill: #FFFFFF;\n",
              "    }\n",
              "  </style>\n",
              "\n",
              "    <script>\n",
              "      const buttonEl =\n",
              "        document.querySelector('#df-aab73ed0-b3da-4dcc-bec6-259ee9d11c6c button.colab-df-convert');\n",
              "      buttonEl.style.display =\n",
              "        google.colab.kernel.accessAllowed ? 'block' : 'none';\n",
              "\n",
              "      async function convertToInteractive(key) {\n",
              "        const element = document.querySelector('#df-aab73ed0-b3da-4dcc-bec6-259ee9d11c6c');\n",
              "        const dataTable =\n",
              "          await google.colab.kernel.invokeFunction('convertToInteractive',\n",
              "                                                    [key], {});\n",
              "        if (!dataTable) return;\n",
              "\n",
              "        const docLinkHtml = 'Like what you see? Visit the ' +\n",
              "          '<a target=\"_blank\" href=https://colab.research.google.com/notebooks/data_table.ipynb>data table notebook</a>'\n",
              "          + ' to learn more about interactive tables.';\n",
              "        element.innerHTML = '';\n",
              "        dataTable['output_type'] = 'display_data';\n",
              "        await google.colab.output.renderOutput(dataTable, element);\n",
              "        const docLink = document.createElement('div');\n",
              "        docLink.innerHTML = docLinkHtml;\n",
              "        element.appendChild(docLink);\n",
              "      }\n",
              "    </script>\n",
              "  </div>\n",
              "\n",
              "\n",
              "<div id=\"df-0ff37726-9faf-42e1-9661-1fe8351e633e\">\n",
              "  <button class=\"colab-df-quickchart\" onclick=\"quickchart('df-0ff37726-9faf-42e1-9661-1fe8351e633e')\"\n",
              "            title=\"Suggest charts\"\n",
              "            style=\"display:none;\">\n",
              "\n",
              "<svg xmlns=\"http://www.w3.org/2000/svg\" height=\"24px\"viewBox=\"0 0 24 24\"\n",
              "     width=\"24px\">\n",
              "    <g>\n",
              "        <path d=\"M19 3H5c-1.1 0-2 .9-2 2v14c0 1.1.9 2 2 2h14c1.1 0 2-.9 2-2V5c0-1.1-.9-2-2-2zM9 17H7v-7h2v7zm4 0h-2V7h2v10zm4 0h-2v-4h2v4z\"/>\n",
              "    </g>\n",
              "</svg>\n",
              "  </button>\n",
              "\n",
              "<style>\n",
              "  .colab-df-quickchart {\n",
              "      --bg-color: #E8F0FE;\n",
              "      --fill-color: #1967D2;\n",
              "      --hover-bg-color: #E2EBFA;\n",
              "      --hover-fill-color: #174EA6;\n",
              "      --disabled-fill-color: #AAA;\n",
              "      --disabled-bg-color: #DDD;\n",
              "  }\n",
              "\n",
              "  [theme=dark] .colab-df-quickchart {\n",
              "      --bg-color: #3B4455;\n",
              "      --fill-color: #D2E3FC;\n",
              "      --hover-bg-color: #434B5C;\n",
              "      --hover-fill-color: #FFFFFF;\n",
              "      --disabled-bg-color: #3B4455;\n",
              "      --disabled-fill-color: #666;\n",
              "  }\n",
              "\n",
              "  .colab-df-quickchart {\n",
              "    background-color: var(--bg-color);\n",
              "    border: none;\n",
              "    border-radius: 50%;\n",
              "    cursor: pointer;\n",
              "    display: none;\n",
              "    fill: var(--fill-color);\n",
              "    height: 32px;\n",
              "    padding: 0;\n",
              "    width: 32px;\n",
              "  }\n",
              "\n",
              "  .colab-df-quickchart:hover {\n",
              "    background-color: var(--hover-bg-color);\n",
              "    box-shadow: 0 1px 2px rgba(60, 64, 67, 0.3), 0 1px 3px 1px rgba(60, 64, 67, 0.15);\n",
              "    fill: var(--button-hover-fill-color);\n",
              "  }\n",
              "\n",
              "  .colab-df-quickchart-complete:disabled,\n",
              "  .colab-df-quickchart-complete:disabled:hover {\n",
              "    background-color: var(--disabled-bg-color);\n",
              "    fill: var(--disabled-fill-color);\n",
              "    box-shadow: none;\n",
              "  }\n",
              "\n",
              "  .colab-df-spinner {\n",
              "    border: 2px solid var(--fill-color);\n",
              "    border-color: transparent;\n",
              "    border-bottom-color: var(--fill-color);\n",
              "    animation:\n",
              "      spin 1s steps(1) infinite;\n",
              "  }\n",
              "\n",
              "  @keyframes spin {\n",
              "    0% {\n",
              "      border-color: transparent;\n",
              "      border-bottom-color: var(--fill-color);\n",
              "      border-left-color: var(--fill-color);\n",
              "    }\n",
              "    20% {\n",
              "      border-color: transparent;\n",
              "      border-left-color: var(--fill-color);\n",
              "      border-top-color: var(--fill-color);\n",
              "    }\n",
              "    30% {\n",
              "      border-color: transparent;\n",
              "      border-left-color: var(--fill-color);\n",
              "      border-top-color: var(--fill-color);\n",
              "      border-right-color: var(--fill-color);\n",
              "    }\n",
              "    40% {\n",
              "      border-color: transparent;\n",
              "      border-right-color: var(--fill-color);\n",
              "      border-top-color: var(--fill-color);\n",
              "    }\n",
              "    60% {\n",
              "      border-color: transparent;\n",
              "      border-right-color: var(--fill-color);\n",
              "    }\n",
              "    80% {\n",
              "      border-color: transparent;\n",
              "      border-right-color: var(--fill-color);\n",
              "      border-bottom-color: var(--fill-color);\n",
              "    }\n",
              "    90% {\n",
              "      border-color: transparent;\n",
              "      border-bottom-color: var(--fill-color);\n",
              "    }\n",
              "  }\n",
              "</style>\n",
              "\n",
              "  <script>\n",
              "    async function quickchart(key) {\n",
              "      const quickchartButtonEl =\n",
              "        document.querySelector('#' + key + ' button');\n",
              "      quickchartButtonEl.disabled = true;  // To prevent multiple clicks.\n",
              "      quickchartButtonEl.classList.add('colab-df-spinner');\n",
              "      try {\n",
              "        const charts = await google.colab.kernel.invokeFunction(\n",
              "            'suggestCharts', [key], {});\n",
              "      } catch (error) {\n",
              "        console.error('Error during call to suggestCharts:', error);\n",
              "      }\n",
              "      quickchartButtonEl.classList.remove('colab-df-spinner');\n",
              "      quickchartButtonEl.classList.add('colab-df-quickchart-complete');\n",
              "    }\n",
              "    (() => {\n",
              "      let quickchartButtonEl =\n",
              "        document.querySelector('#df-0ff37726-9faf-42e1-9661-1fe8351e633e button');\n",
              "      quickchartButtonEl.style.display =\n",
              "        google.colab.kernel.accessAllowed ? 'block' : 'none';\n",
              "    })();\n",
              "  </script>\n",
              "</div>\n",
              "\n",
              "    </div>\n",
              "  </div>\n"
            ],
            "application/vnd.google.colaboratory.intrinsic+json": {
              "type": "dataframe",
              "summary": "{\n  \"name\": \"y_test[0:5]\",\n  \"rows\": 5,\n  \"fields\": [\n    {\n      \"column\": \"RSC  meq  / L\",\n      \"properties\": {\n        \"dtype\": \"category\",\n        \"num_unique_values\": 2,\n        \"samples\": [\n          1,\n          3\n        ],\n        \"semantic_type\": \"\",\n        \"description\": \"\"\n      }\n    }\n  ]\n}"
            }
          },
          "metadata": {},
          "execution_count": 341
        }
      ]
    },
    {
      "cell_type": "code",
      "source": [
        "\n",
        "from sklearn import metrics\n",
        "\n",
        "print (metrics.accuracy_score(y_test, Y_pred))"
      ],
      "metadata": {
        "colab": {
          "base_uri": "https://localhost:8080/"
        },
        "id": "OLXaG7uVy_wd",
        "outputId": "09d9f3cc-fb71-4c22-aa7a-78e86852a342"
      },
      "execution_count": null,
      "outputs": [
        {
          "output_type": "stream",
          "name": "stdout",
          "text": [
            "0.8918918918918919\n"
          ]
        }
      ]
    },
    {
      "cell_type": "code",
      "source": [],
      "metadata": {
        "id": "-9EUuhEWzEsc"
      },
      "execution_count": null,
      "outputs": []
    }
  ]
}